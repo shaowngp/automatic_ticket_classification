{
 "cells": [
  {
   "cell_type": "markdown",
   "metadata": {
    "id": "rhR-ZUkwJrFn"
   },
   "source": [
    "## Problem Statement \n",
    "\n",
    "You need to build a model that is able to classify customer complaints based on the products/services. By doing so, you can segregate these tickets into their relevant categories and, therefore, help in the quick resolution of the issue.\n",
    "\n",
    "You will be doing topic modelling on the <b>.json</b> data provided by the company. Since this data is not labelled, you need to apply NMF to analyse patterns and classify tickets into the following five clusters based on their products/services:\n",
    "\n",
    "* Credit card / Prepaid card\n",
    "\n",
    "* Bank account services\n",
    "\n",
    "* Theft/Dispute reporting\n",
    "\n",
    "* Mortgages/loans\n",
    "\n",
    "* Others \n",
    "\n",
    "\n",
    "With the help of topic modelling, you will be able to map each ticket onto its respective department/category. You can then use this data to train any supervised model such as logistic regression, decision tree or random forest. Using this trained model, you can classify any new customer complaint support ticket into its relevant department."
   ]
  },
  {
   "cell_type": "markdown",
   "metadata": {
    "id": "mcgXVNyaLUFS"
   },
   "source": [
    "## Pipelines that needs to be performed:\n",
    "\n",
    "You need to perform the following eight major tasks to complete the assignment:\n",
    "\n",
    "1.  Data loading\n",
    "\n",
    "2. Text preprocessing\n",
    "\n",
    "3. Exploratory data analysis (EDA)\n",
    "\n",
    "4. Feature extraction\n",
    "\n",
    "5. Topic modelling \n",
    "\n",
    "6. Model building using supervised learning\n",
    "\n",
    "7. Model training and evaluation\n",
    "\n",
    "8. Model inference"
   ]
  },
  {
   "cell_type": "markdown",
   "metadata": {
    "id": "JuLFIymAL58u"
   },
   "source": [
    "## Importing the necessary libraries"
   ]
  },
  {
   "cell_type": "code",
   "execution_count": 58,
   "metadata": {
    "id": "O-Q9pqrcJrFr"
   },
   "outputs": [],
   "source": [
    "import json \n",
    "import numpy as np\n",
    "import pandas as pd\n",
    "import re, nltk, spacy, string\n",
    "import en_core_web_sm\n",
    "nlp = en_core_web_sm.load()\n",
    "import seaborn as sns\n",
    "import matplotlib.pyplot as plt\n",
    "%matplotlib inline\n",
    "\n",
    "from plotly.offline import plot\n",
    "import plotly.graph_objects as go\n",
    "import plotly.express as px\n",
    "\n",
    "from sklearn.feature_extraction.text import CountVectorizer, TfidfVectorizer, TfidfTransformer\n",
    "from pprint import pprint"
   ]
  },
  {
   "cell_type": "markdown",
   "metadata": {
    "id": "KtRLCsNVJrFt"
   },
   "source": [
    "## Loading the data\n",
    "\n",
    "The data is in JSON format and we need to convert it to a dataframe."
   ]
  },
  {
   "cell_type": "code",
   "execution_count": 2,
   "metadata": {
    "id": "puVzIf_iJrFt"
   },
   "outputs": [],
   "source": [
    "# Opening JSON file \n",
    "f = open(\"../Downloads/complaints.json\") # Write the path to your data file and load it \n",
    "  \n",
    "# returns JSON object as  \n",
    "# a dictionary \n",
    "data = json.load(f)\n",
    "df=pd.json_normalize(data)"
   ]
  },
  {
   "cell_type": "markdown",
   "metadata": {
    "id": "_xYpH-sAJrFu"
   },
   "source": [
    "## Data preparation"
   ]
  },
  {
   "cell_type": "code",
   "execution_count": null,
   "metadata": {
    "id": "Lf8ufHH5JrFu"
   },
   "outputs": [],
   "source": [
    "# Inspect the dataframe to understand the given data.\n",
    "df.head(10)\n"
   ]
  },
  {
   "cell_type": "code",
   "execution_count": null,
   "metadata": {
    "id": "Dwcty-wmJrFw"
   },
   "outputs": [],
   "source": [
    "#print the column names\n",
    "print(df.columns)"
   ]
  },
  {
   "cell_type": "code",
   "execution_count": 3,
   "metadata": {
    "id": "FYCtKXD1JrFw"
   },
   "outputs": [],
   "source": [
    "#Assign new column names\n",
    "df.rename(columns={'_index': 'index', '_type': 'type','_id': 'id', '_score': 'score',\n",
    "                   '_source.tags': 'tags', '_source.zip_code': 'zip_code','_source.complaint_id': 'complaint_id',\n",
    "                   '_source.issue': 'issue','_source.date_received': 'date_received',\n",
    "                   '_source.state': 'state','_source.consumer_disputed': 'consumer_disputed',\n",
    "                  '_source.product': 'product','_source.company_response': 'company_response',\n",
    "                  '_source.company': 'company','_source.submitted_via': 'submitted_via',\n",
    "                  '_source.date_sent_to_company': 'date_sent_to_company',\n",
    "                  '_source.company_public_response': 'company_public_response',\n",
    "                  '_source.sub_product': 'sub_product','_source.timely': 'timely',\n",
    "                  '_source.complaint_what_happened': 'complaint_what_happened', \n",
    "                  '_source.sub_issue': 'sub_issue','_source.consumer_consent_provided': 'consumer_consent_provided',}, inplace=True)"
   ]
  },
  {
   "cell_type": "code",
   "execution_count": null,
   "metadata": {},
   "outputs": [],
   "source": [
    "print(df.columns)"
   ]
  },
  {
   "cell_type": "code",
   "execution_count": null,
   "metadata": {},
   "outputs": [],
   "source": [
    "df.head(10)"
   ]
  },
  {
   "cell_type": "code",
   "execution_count": null,
   "metadata": {},
   "outputs": [],
   "source": [
    "df['complaint_what_happened'].isna().sum()"
   ]
  },
  {
   "cell_type": "code",
   "execution_count": null,
   "metadata": {},
   "outputs": [],
   "source": [
    "(df['complaint_what_happened']=='').sum()"
   ]
  },
  {
   "cell_type": "code",
   "execution_count": 4,
   "metadata": {
    "id": "grQUPFL5JrFx"
   },
   "outputs": [],
   "source": [
    "#Assign nan in place of blanks in the complaints column\n",
    "df = df.replace(r'^\\s*$', np.NaN, regex=True)"
   ]
  },
  {
   "cell_type": "code",
   "execution_count": null,
   "metadata": {},
   "outputs": [],
   "source": [
    "df['complaint_what_happened'].isna().sum()"
   ]
  },
  {
   "cell_type": "code",
   "execution_count": null,
   "metadata": {},
   "outputs": [],
   "source": [
    "(df['complaint_what_happened']=='').sum()"
   ]
  },
  {
   "cell_type": "code",
   "execution_count": null,
   "metadata": {},
   "outputs": [],
   "source": [
    "#pd.set_option('display.max_colwidth', None)"
   ]
  },
  {
   "cell_type": "code",
   "execution_count": null,
   "metadata": {},
   "outputs": [],
   "source": [
    "df['complaint_what_happened']"
   ]
  },
  {
   "cell_type": "code",
   "execution_count": 5,
   "metadata": {},
   "outputs": [
    {
     "data": {
      "text/plain": [
       "(78313, 22)"
      ]
     },
     "execution_count": 5,
     "metadata": {},
     "output_type": "execute_result"
    }
   ],
   "source": [
    "df.shape"
   ]
  },
  {
   "cell_type": "code",
   "execution_count": 6,
   "metadata": {
    "id": "Jfxd8VSmJrFy"
   },
   "outputs": [],
   "source": [
    "#Remove all rows where complaints column is nan\n",
    "df=df[~df['complaint_what_happened'].isna()]"
   ]
  },
  {
   "cell_type": "code",
   "execution_count": 7,
   "metadata": {},
   "outputs": [],
   "source": [
    "df.reset_index(drop=True, inplace=True)"
   ]
  },
  {
   "cell_type": "code",
   "execution_count": 8,
   "metadata": {},
   "outputs": [
    {
     "data": {
      "text/plain": [
       "(21072, 22)"
      ]
     },
     "execution_count": 8,
     "metadata": {},
     "output_type": "execute_result"
    }
   ],
   "source": [
    "df.shape"
   ]
  },
  {
   "cell_type": "code",
   "execution_count": 9,
   "metadata": {},
   "outputs": [
    {
     "data": {
      "text/plain": [
       "131      RE : Complaint Against JP Morgan Chase, XXXX H...\n",
       "165      I am responding to your contact about a debt y...\n",
       "395      Chase Card Address : XXXX XXXX XXXX City/ Stat...\n",
       "463      onXXXX XXXX odf XXXX Chase decided to tell the...\n",
       "630      We posted item [ s ] for sale on XXXX XXXX  an...\n",
       "                               ...                        \n",
       "20454    XXXX XXXX commits FRAUD as charging customers ...\n",
       "20482    Time of Applicable Cases : Approximately, XX/X...\n",
       "20726    Hi, As a loyal and long time customer of such ...\n",
       "20786    I left XXXX XXXX at XXXX on Thursday XX/XX/XXX...\n",
       "20868    Dear Sir, I have closed my individual chase cr...\n",
       "Name: complaint_what_happened, Length: 212, dtype: object"
      ]
     },
     "execution_count": 9,
     "metadata": {},
     "output_type": "execute_result"
    }
   ],
   "source": [
    "df['complaint_what_happened'][df['complaint_what_happened'].str.contains('\\[', regex= True, na=False)]"
   ]
  },
  {
   "cell_type": "code",
   "execution_count": null,
   "metadata": {},
   "outputs": [],
   "source": [
    "df['complaint_what_happened'].head()"
   ]
  },
  {
   "cell_type": "code",
   "execution_count": 10,
   "metadata": {},
   "outputs": [
    {
     "data": {
      "text/plain": [
       "0    good morning my name is xxxx xxxx and i apprec...\n",
       "1    i upgraded my xxxx xxxx card in xx/xx/2018 and...\n",
       "2    chase card was reported on xx/xx/2019. however...\n",
       "3    on xx/xx/2018, while trying to book a xxxx  xx...\n",
       "4    my grand son give me check for {$1600.00} i de...\n",
       "Name: complaint_what_happened, dtype: object"
      ]
     },
     "execution_count": 10,
     "metadata": {},
     "output_type": "execute_result"
    }
   ],
   "source": [
    "df['complaint_what_happened']=df['complaint_what_happened'].str.lower()\n",
    "df['complaint_what_happened'].head()"
   ]
  },
  {
   "cell_type": "code",
   "execution_count": 11,
   "metadata": {},
   "outputs": [],
   "source": [
    "df['complaint_what_happened'].replace(to_replace={'xx','\\d'}, value='', regex=True, inplace=True) "
   ]
  },
  {
   "cell_type": "code",
   "execution_count": 12,
   "metadata": {},
   "outputs": [
    {
     "data": {
      "text/plain": [
       "0    good morning my name is   and i appreciate it ...\n",
       "1    i upgraded my   card in // and was told by the...\n",
       "2    chase card was reported on //. however, fraudu...\n",
       "3    on //, while trying to book a     ticket, i ca...\n",
       "4    my grand son give me check for {$.} i deposit ...\n",
       "Name: complaint_what_happened, dtype: object"
      ]
     },
     "execution_count": 12,
     "metadata": {},
     "output_type": "execute_result"
    }
   ],
   "source": [
    "df['complaint_what_happened'].head()"
   ]
  },
  {
   "cell_type": "code",
   "execution_count": 13,
   "metadata": {},
   "outputs": [],
   "source": [
    "df['complaint_what_happened'].replace(to_replace={'[\\[].*?[\\]]'}, value='', regex=True, inplace=True) "
   ]
  },
  {
   "cell_type": "code",
   "execution_count": 14,
   "metadata": {},
   "outputs": [
    {
     "data": {
      "text/plain": [
       "'we posted item  for sale on    and other websites. someone interested in buying the same. we have told that it costs {$.} and transfer the same to our account. i have shared email id of my bank account. i have told that item will be shipped after receiving the amount. they have called nextday and told that by mistake t they transferred  instead of  on // i have checked my bank account and i can see amount for {$.}. i have decided to send money back and took his email id. i have transferred the money of {$.} ( using  through    ). they told that it went to their old/closed account and they said that have called  and sent money back to my account. i have checked my bank account and i saw credit of {$.}. he asked me to transfer to his other email id since first transfer didnt work. i did the same. second time he told money didnt go through since his account locked due to low balance. he told that he called  and cancel the same. i saw second credit of {$.}. he asked me to transfer {$.} this time to his sister account. i tried to transfer the same from    and failed sine max limit per day exceeded. i have used my chase to transfer the amount. on // he told that he is able to unlock account and as part of initial transfer he accidentally transferred twice and that got processed after unlock i have checked my bank account and can see credit of {$.}. i have decided to send it back so sent to his email id. he again told that somehow money went to his old/closed account and his account is locked again. he told that he called  and cancelled the same and he requested me to transfer the excess amount so that he can unlock his account. this time i have transferred {$.} to his another sister account from my chase account and waiting for credit from . after sometime he told that he is able to unlock and issue resolved. he told that money will come by eod. \\n\\nfrom this point he is not reachable. not able to call/text. next day surprisingly all the credits were not appearing and when i checked with bank, they said they dont see of those credits and they told someone called  days back and ( on the day of my first transfer ) submitted claims ( pretending that they are unable to deposit amount in atm ) using my personal details and questions. bank confirmed that there are total  claims created ( ,, amounts ) and due to this i saw those credits. bank provided me those claim numbers as well. bank also told that he might have cancelled his transfer and thats why credit got reversed. i have told bank that i didnt create those and they said my personal details would have been compromised,     cancelled all those claims and debited the amount from my account. i have explained the situation to the bank (    ) and they created claim and investigating the same. \\n\\ni have visited chase bank and explained the situation and requested to cancel/dispute transactions. they said that nothing can be done from their side since i have transferred. i have told that i am victim of this scam but they said nothing can be done. \\n\\nattaching all transactions made by me and couple of screenshots shared by other person confirming that money went to his old   account instead of     account.'"
      ]
     },
     "execution_count": 14,
     "metadata": {},
     "output_type": "execute_result"
    }
   ],
   "source": [
    "df['complaint_what_happened'].iloc[630]"
   ]
  },
  {
   "cell_type": "code",
   "execution_count": 15,
   "metadata": {},
   "outputs": [],
   "source": [
    "df['complaint_what_happened'].replace(to_replace={'\\W+|_'}, value=' ', regex=True, inplace=True) "
   ]
  },
  {
   "cell_type": "code",
   "execution_count": 18,
   "metadata": {},
   "outputs": [
    {
     "data": {
      "text/plain": [
       "0    good morning my name is and i appreciate it if...\n",
       "1    i upgraded my card in and was told by the agen...\n",
       "2    chase card was reported on however fraudulent ...\n",
       "3    on while trying to book a ticket i came across...\n",
       "4    my grand son give me check for i deposit it in...\n",
       "Name: complaint_what_happened, dtype: object"
      ]
     },
     "execution_count": 18,
     "metadata": {},
     "output_type": "execute_result"
    }
   ],
   "source": [
    "df['complaint_what_happened'].head()"
   ]
  },
  {
   "cell_type": "code",
   "execution_count": 19,
   "metadata": {},
   "outputs": [
    {
     "data": {
      "text/plain": [
       "'we posted item for sale on and other websites someone interested in buying the same we have told that it costs and transfer the same to our account i have shared email id of my bank account i have told that item will be shipped after receiving the amount they have called nextday and told that by mistake t they transferred instead of on i have checked my bank account and i can see amount for i have decided to send money back and took his email id i have transferred the money of using through they told that it went to their old closed account and they said that have called and sent money back to my account i have checked my bank account and i saw credit of he asked me to transfer to his other email id since first transfer didnt work i did the same second time he told money didnt go through since his account locked due to low balance he told that he called and cancel the same i saw second credit of he asked me to transfer this time to his sister account i tried to transfer the same from and failed sine max limit per day exceeded i have used my chase to transfer the amount on he told that he is able to unlock account and as part of initial transfer he accidentally transferred twice and that got processed after unlock i have checked my bank account and can see credit of i have decided to send it back so sent to his email id he again told that somehow money went to his old closed account and his account is locked again he told that he called and cancelled the same and he requested me to transfer the excess amount so that he can unlock his account this time i have transferred to his another sister account from my chase account and waiting for credit from after sometime he told that he is able to unlock and issue resolved he told that money will come by eod from this point he is not reachable not able to call text next day surprisingly all the credits were not appearing and when i checked with bank they said they dont see of those credits and they told someone called days back and on the day of my first transfer submitted claims pretending that they are unable to deposit amount in atm using my personal details and questions bank confirmed that there are total claims created amounts and due to this i saw those credits bank provided me those claim numbers as well bank also told that he might have cancelled his transfer and thats why credit got reversed i have told bank that i didnt create those and they said my personal details would have been compromised cancelled all those claims and debited the amount from my account i have explained the situation to the bank and they created claim and investigating the same i have visited chase bank and explained the situation and requested to cancel dispute transactions they said that nothing can be done from their side since i have transferred i have told that i am victim of this scam but they said nothing can be done attaching all transactions made by me and couple of screenshots shared by other person confirming that money went to his old account instead of account '"
      ]
     },
     "execution_count": 19,
     "metadata": {},
     "output_type": "execute_result"
    }
   ],
   "source": [
    "df['complaint_what_happened'].iloc[630]"
   ]
  },
  {
   "cell_type": "code",
   "execution_count": null,
   "metadata": {},
   "outputs": [],
   "source": [
    "#pd.set_option('display.max_colwidth', None)"
   ]
  },
  {
   "cell_type": "code",
   "execution_count": null,
   "metadata": {},
   "outputs": [],
   "source": [
    "df['complaint_what_happened'].head()"
   ]
  },
  {
   "cell_type": "code",
   "execution_count": null,
   "metadata": {},
   "outputs": [],
   "source": [
    "#df['complaint_what_happened'].replace(to_replace={'\\W+|_'}, value=' ', regex=True, inplace=True)"
   ]
  },
  {
   "cell_type": "code",
   "execution_count": null,
   "metadata": {},
   "outputs": [],
   "source": [
    "#pd.set_option('display.max_colwidth', None)"
   ]
  },
  {
   "cell_type": "code",
   "execution_count": null,
   "metadata": {},
   "outputs": [],
   "source": [
    "df['complaint_what_happened'].iloc[0]"
   ]
  },
  {
   "cell_type": "markdown",
   "metadata": {
    "id": "L944HZpsJrFy"
   },
   "source": [
    "## Prepare the text for topic modeling\n",
    "\n",
    "Once you have removed all the blank complaints, you need to:\n",
    "\n",
    "* Make the text lowercase\n",
    "* Remove text in square brackets\n",
    "* Remove punctuation\n",
    "* Remove words containing numbers\n",
    "\n",
    "\n",
    "Once you have done these cleaning operations you need to perform the following:\n",
    "* Lemmatize the texts\n",
    "* Use POS tags to get relevant words from the texts.\n"
   ]
  },
  {
   "cell_type": "code",
   "execution_count": null,
   "metadata": {
    "id": "qm7SjjSkJrFz"
   },
   "outputs": [],
   "source": [
    "# Write your function here to clean the text and remove all the unnecessary elements.\n"
   ]
  },
  {
   "cell_type": "code",
   "execution_count": 20,
   "metadata": {
    "id": "zgOu8t8HJrFz"
   },
   "outputs": [],
   "source": [
    "#Write your function to Lemmatize the texts\n",
    "def lem_txt(data):     \n",
    "        \n",
    "    # Initialize empty list to store lemmas\n",
    "    lem_list = []\n",
    "    \n",
    "    # Extract lemmas of given text and add to the list 'sent'\n",
    "    document = nlp(data)\n",
    "    for word in document:\n",
    "        lem_list.append(word.lemma_)\n",
    "        \n",
    "    # return string converted form of the list of lemmas\n",
    "    return \" \".join(lem_list)"
   ]
  },
  {
   "cell_type": "code",
   "execution_count": null,
   "metadata": {},
   "outputs": [],
   "source": [
    "#!pip install swifter"
   ]
  },
  {
   "cell_type": "code",
   "execution_count": 21,
   "metadata": {},
   "outputs": [
    {
     "data": {
      "text/html": [
       "<div>\n",
       "<style scoped>\n",
       "    .dataframe tbody tr th:only-of-type {\n",
       "        vertical-align: middle;\n",
       "    }\n",
       "\n",
       "    .dataframe tbody tr th {\n",
       "        vertical-align: top;\n",
       "    }\n",
       "\n",
       "    .dataframe thead th {\n",
       "        text-align: right;\n",
       "    }\n",
       "</style>\n",
       "<table border=\"1\" class=\"dataframe\">\n",
       "  <thead>\n",
       "    <tr style=\"text-align: right;\">\n",
       "      <th></th>\n",
       "      <th>index</th>\n",
       "      <th>type</th>\n",
       "      <th>id</th>\n",
       "      <th>score</th>\n",
       "      <th>tags</th>\n",
       "      <th>zip_code</th>\n",
       "      <th>complaint_id</th>\n",
       "      <th>issue</th>\n",
       "      <th>date_received</th>\n",
       "      <th>state</th>\n",
       "      <th>...</th>\n",
       "      <th>company</th>\n",
       "      <th>submitted_via</th>\n",
       "      <th>date_sent_to_company</th>\n",
       "      <th>company_public_response</th>\n",
       "      <th>sub_product</th>\n",
       "      <th>timely</th>\n",
       "      <th>complaint_what_happened</th>\n",
       "      <th>sub_issue</th>\n",
       "      <th>consumer_consent_provided</th>\n",
       "      <th>lemma_complaints</th>\n",
       "    </tr>\n",
       "  </thead>\n",
       "  <tbody>\n",
       "    <tr>\n",
       "      <th>0</th>\n",
       "      <td>complaint-public-v2</td>\n",
       "      <td>complaint</td>\n",
       "      <td>3229299</td>\n",
       "      <td>0.0</td>\n",
       "      <td>Servicemember</td>\n",
       "      <td>319XX</td>\n",
       "      <td>3229299</td>\n",
       "      <td>Written notification about debt</td>\n",
       "      <td>2019-05-01T12:00:00-05:00</td>\n",
       "      <td>GA</td>\n",
       "      <td>...</td>\n",
       "      <td>JPMORGAN CHASE &amp; CO.</td>\n",
       "      <td>Web</td>\n",
       "      <td>2019-05-01T12:00:00-05:00</td>\n",
       "      <td>None</td>\n",
       "      <td>Credit card debt</td>\n",
       "      <td>Yes</td>\n",
       "      <td>good morning my name is and i appreciate it if...</td>\n",
       "      <td>Didn't receive enough information to verify debt</td>\n",
       "      <td>Consent provided</td>\n",
       "      <td>good morning my name be and I appreciate it if...</td>\n",
       "    </tr>\n",
       "    <tr>\n",
       "      <th>1</th>\n",
       "      <td>complaint-public-v2</td>\n",
       "      <td>complaint</td>\n",
       "      <td>3199379</td>\n",
       "      <td>0.0</td>\n",
       "      <td>None</td>\n",
       "      <td>77069</td>\n",
       "      <td>3199379</td>\n",
       "      <td>Other features, terms, or problems</td>\n",
       "      <td>2019-04-02T12:00:00-05:00</td>\n",
       "      <td>TX</td>\n",
       "      <td>...</td>\n",
       "      <td>JPMORGAN CHASE &amp; CO.</td>\n",
       "      <td>Web</td>\n",
       "      <td>2019-04-02T12:00:00-05:00</td>\n",
       "      <td>None</td>\n",
       "      <td>General-purpose credit card or charge card</td>\n",
       "      <td>Yes</td>\n",
       "      <td>i upgraded my card in and was told by the agen...</td>\n",
       "      <td>Problem with rewards from credit card</td>\n",
       "      <td>Consent provided</td>\n",
       "      <td>I upgrade my card in and be tell by the agent ...</td>\n",
       "    </tr>\n",
       "    <tr>\n",
       "      <th>2</th>\n",
       "      <td>complaint-public-v2</td>\n",
       "      <td>complaint</td>\n",
       "      <td>3233499</td>\n",
       "      <td>0.0</td>\n",
       "      <td>None</td>\n",
       "      <td>104XX</td>\n",
       "      <td>3233499</td>\n",
       "      <td>Incorrect information on your report</td>\n",
       "      <td>2019-05-06T12:00:00-05:00</td>\n",
       "      <td>NY</td>\n",
       "      <td>...</td>\n",
       "      <td>JPMORGAN CHASE &amp; CO.</td>\n",
       "      <td>Web</td>\n",
       "      <td>2019-05-06T12:00:00-05:00</td>\n",
       "      <td>None</td>\n",
       "      <td>Other personal consumer report</td>\n",
       "      <td>Yes</td>\n",
       "      <td>chase card was reported on however fraudulent ...</td>\n",
       "      <td>Information belongs to someone else</td>\n",
       "      <td>Consent provided</td>\n",
       "      <td>chase card be report on however fraudulent app...</td>\n",
       "    </tr>\n",
       "    <tr>\n",
       "      <th>3</th>\n",
       "      <td>complaint-public-v2</td>\n",
       "      <td>complaint</td>\n",
       "      <td>3180294</td>\n",
       "      <td>0.0</td>\n",
       "      <td>None</td>\n",
       "      <td>750XX</td>\n",
       "      <td>3180294</td>\n",
       "      <td>Incorrect information on your report</td>\n",
       "      <td>2019-03-14T12:00:00-05:00</td>\n",
       "      <td>TX</td>\n",
       "      <td>...</td>\n",
       "      <td>JPMORGAN CHASE &amp; CO.</td>\n",
       "      <td>Web</td>\n",
       "      <td>2019-03-15T12:00:00-05:00</td>\n",
       "      <td>None</td>\n",
       "      <td>Credit reporting</td>\n",
       "      <td>Yes</td>\n",
       "      <td>on while trying to book a ticket i came across...</td>\n",
       "      <td>Information belongs to someone else</td>\n",
       "      <td>Consent provided</td>\n",
       "      <td>on while try to book a ticket I come across an...</td>\n",
       "    </tr>\n",
       "    <tr>\n",
       "      <th>4</th>\n",
       "      <td>complaint-public-v2</td>\n",
       "      <td>complaint</td>\n",
       "      <td>3224980</td>\n",
       "      <td>0.0</td>\n",
       "      <td>None</td>\n",
       "      <td>920XX</td>\n",
       "      <td>3224980</td>\n",
       "      <td>Managing an account</td>\n",
       "      <td>2019-04-27T12:00:00-05:00</td>\n",
       "      <td>CA</td>\n",
       "      <td>...</td>\n",
       "      <td>JPMORGAN CHASE &amp; CO.</td>\n",
       "      <td>Web</td>\n",
       "      <td>2019-04-27T12:00:00-05:00</td>\n",
       "      <td>None</td>\n",
       "      <td>Checking account</td>\n",
       "      <td>Yes</td>\n",
       "      <td>my grand son give me check for i deposit it in...</td>\n",
       "      <td>Funds not handled or disbursed as instructed</td>\n",
       "      <td>Consent provided</td>\n",
       "      <td>my grand son give I check for I deposit it int...</td>\n",
       "    </tr>\n",
       "  </tbody>\n",
       "</table>\n",
       "<p>5 rows × 23 columns</p>\n",
       "</div>"
      ],
      "text/plain": [
       "                 index       type       id  score           tags zip_code  \\\n",
       "0  complaint-public-v2  complaint  3229299    0.0  Servicemember    319XX   \n",
       "1  complaint-public-v2  complaint  3199379    0.0           None    77069   \n",
       "2  complaint-public-v2  complaint  3233499    0.0           None    104XX   \n",
       "3  complaint-public-v2  complaint  3180294    0.0           None    750XX   \n",
       "4  complaint-public-v2  complaint  3224980    0.0           None    920XX   \n",
       "\n",
       "  complaint_id                                 issue  \\\n",
       "0      3229299       Written notification about debt   \n",
       "1      3199379    Other features, terms, or problems   \n",
       "2      3233499  Incorrect information on your report   \n",
       "3      3180294  Incorrect information on your report   \n",
       "4      3224980                   Managing an account   \n",
       "\n",
       "               date_received state  ...               company submitted_via  \\\n",
       "0  2019-05-01T12:00:00-05:00    GA  ...  JPMORGAN CHASE & CO.           Web   \n",
       "1  2019-04-02T12:00:00-05:00    TX  ...  JPMORGAN CHASE & CO.           Web   \n",
       "2  2019-05-06T12:00:00-05:00    NY  ...  JPMORGAN CHASE & CO.           Web   \n",
       "3  2019-03-14T12:00:00-05:00    TX  ...  JPMORGAN CHASE & CO.           Web   \n",
       "4  2019-04-27T12:00:00-05:00    CA  ...  JPMORGAN CHASE & CO.           Web   \n",
       "\n",
       "        date_sent_to_company company_public_response  \\\n",
       "0  2019-05-01T12:00:00-05:00                    None   \n",
       "1  2019-04-02T12:00:00-05:00                    None   \n",
       "2  2019-05-06T12:00:00-05:00                    None   \n",
       "3  2019-03-15T12:00:00-05:00                    None   \n",
       "4  2019-04-27T12:00:00-05:00                    None   \n",
       "\n",
       "                                  sub_product timely  \\\n",
       "0                            Credit card debt    Yes   \n",
       "1  General-purpose credit card or charge card    Yes   \n",
       "2              Other personal consumer report    Yes   \n",
       "3                            Credit reporting    Yes   \n",
       "4                            Checking account    Yes   \n",
       "\n",
       "                             complaint_what_happened  \\\n",
       "0  good morning my name is and i appreciate it if...   \n",
       "1  i upgraded my card in and was told by the agen...   \n",
       "2  chase card was reported on however fraudulent ...   \n",
       "3  on while trying to book a ticket i came across...   \n",
       "4  my grand son give me check for i deposit it in...   \n",
       "\n",
       "                                          sub_issue consumer_consent_provided  \\\n",
       "0  Didn't receive enough information to verify debt          Consent provided   \n",
       "1             Problem with rewards from credit card          Consent provided   \n",
       "2               Information belongs to someone else          Consent provided   \n",
       "3               Information belongs to someone else          Consent provided   \n",
       "4      Funds not handled or disbursed as instructed          Consent provided   \n",
       "\n",
       "                                    lemma_complaints  \n",
       "0  good morning my name be and I appreciate it if...  \n",
       "1  I upgrade my card in and be tell by the agent ...  \n",
       "2  chase card be report on however fraudulent app...  \n",
       "3  on while try to book a ticket I come across an...  \n",
       "4  my grand son give I check for I deposit it int...  \n",
       "\n",
       "[5 rows x 23 columns]"
      ]
     },
     "execution_count": 21,
     "metadata": {},
     "output_type": "execute_result"
    }
   ],
   "source": [
    "# Add a column for lemmatized complaints to the dataframe\n",
    "df[\"lemma_complaints\"] =  df.apply(lambda x: lem_txt(x['complaint_what_happened']), axis=1)\n",
    "\n",
    "# View the dataframe\n",
    "df.head()"
   ]
  },
  {
   "cell_type": "code",
   "execution_count": null,
   "metadata": {},
   "outputs": [],
   "source": [
    "#from alive_progress import alive_bar\n",
    "\n",
    "# View the dataframe\n",
    "df.head()"
   ]
  },
  {
   "cell_type": "code",
   "execution_count": 22,
   "metadata": {
    "id": "uXnN7aa_JrF0"
   },
   "outputs": [],
   "source": [
    "#Create a dataframe('df_clean') that will have only the complaints and the lemmatized complaints \n",
    "df_clean=df[['complaint_what_happened','lemma_complaints']]"
   ]
  },
  {
   "cell_type": "code",
   "execution_count": 23,
   "metadata": {
    "id": "nOiDVvEIJrF0"
   },
   "outputs": [
    {
     "data": {
      "text/html": [
       "<div>\n",
       "<style scoped>\n",
       "    .dataframe tbody tr th:only-of-type {\n",
       "        vertical-align: middle;\n",
       "    }\n",
       "\n",
       "    .dataframe tbody tr th {\n",
       "        vertical-align: top;\n",
       "    }\n",
       "\n",
       "    .dataframe thead th {\n",
       "        text-align: right;\n",
       "    }\n",
       "</style>\n",
       "<table border=\"1\" class=\"dataframe\">\n",
       "  <thead>\n",
       "    <tr style=\"text-align: right;\">\n",
       "      <th></th>\n",
       "      <th>complaint_what_happened</th>\n",
       "      <th>lemma_complaints</th>\n",
       "    </tr>\n",
       "  </thead>\n",
       "  <tbody>\n",
       "    <tr>\n",
       "      <th>0</th>\n",
       "      <td>good morning my name is and i appreciate it if...</td>\n",
       "      <td>good morning my name be and I appreciate it if...</td>\n",
       "    </tr>\n",
       "    <tr>\n",
       "      <th>1</th>\n",
       "      <td>i upgraded my card in and was told by the agen...</td>\n",
       "      <td>I upgrade my card in and be tell by the agent ...</td>\n",
       "    </tr>\n",
       "    <tr>\n",
       "      <th>2</th>\n",
       "      <td>chase card was reported on however fraudulent ...</td>\n",
       "      <td>chase card be report on however fraudulent app...</td>\n",
       "    </tr>\n",
       "    <tr>\n",
       "      <th>3</th>\n",
       "      <td>on while trying to book a ticket i came across...</td>\n",
       "      <td>on while try to book a ticket I come across an...</td>\n",
       "    </tr>\n",
       "    <tr>\n",
       "      <th>4</th>\n",
       "      <td>my grand son give me check for i deposit it in...</td>\n",
       "      <td>my grand son give I check for I deposit it int...</td>\n",
       "    </tr>\n",
       "    <tr>\n",
       "      <th>...</th>\n",
       "      <td>...</td>\n",
       "      <td>...</td>\n",
       "    </tr>\n",
       "    <tr>\n",
       "      <th>21067</th>\n",
       "      <td>after being a chase card customer for well ove...</td>\n",
       "      <td>after be a chase card customer for well over a...</td>\n",
       "    </tr>\n",
       "    <tr>\n",
       "      <th>21068</th>\n",
       "      <td>on wednesday i called chas my visa credit card...</td>\n",
       "      <td>on wednesday I call cha my visa credit card pr...</td>\n",
       "    </tr>\n",
       "    <tr>\n",
       "      <th>21069</th>\n",
       "      <td>i am not familiar with pay and did not underst...</td>\n",
       "      <td>I be not familiar with pay and do not understa...</td>\n",
       "    </tr>\n",
       "    <tr>\n",
       "      <th>21070</th>\n",
       "      <td>i have had flawless credit for yrs i ve had ch...</td>\n",
       "      <td>I have have flawless credit for yrs I ve have ...</td>\n",
       "    </tr>\n",
       "    <tr>\n",
       "      <th>21071</th>\n",
       "      <td>roughly years ago i closed out my accounts wit...</td>\n",
       "      <td>roughly year ago I close out my account with j...</td>\n",
       "    </tr>\n",
       "  </tbody>\n",
       "</table>\n",
       "<p>21072 rows × 2 columns</p>\n",
       "</div>"
      ],
      "text/plain": [
       "                                 complaint_what_happened  \\\n",
       "0      good morning my name is and i appreciate it if...   \n",
       "1      i upgraded my card in and was told by the agen...   \n",
       "2      chase card was reported on however fraudulent ...   \n",
       "3      on while trying to book a ticket i came across...   \n",
       "4      my grand son give me check for i deposit it in...   \n",
       "...                                                  ...   \n",
       "21067  after being a chase card customer for well ove...   \n",
       "21068  on wednesday i called chas my visa credit card...   \n",
       "21069  i am not familiar with pay and did not underst...   \n",
       "21070  i have had flawless credit for yrs i ve had ch...   \n",
       "21071  roughly years ago i closed out my accounts wit...   \n",
       "\n",
       "                                        lemma_complaints  \n",
       "0      good morning my name be and I appreciate it if...  \n",
       "1      I upgrade my card in and be tell by the agent ...  \n",
       "2      chase card be report on however fraudulent app...  \n",
       "3      on while try to book a ticket I come across an...  \n",
       "4      my grand son give I check for I deposit it int...  \n",
       "...                                                  ...  \n",
       "21067  after be a chase card customer for well over a...  \n",
       "21068  on wednesday I call cha my visa credit card pr...  \n",
       "21069  I be not familiar with pay and do not understa...  \n",
       "21070  I have have flawless credit for yrs I ve have ...  \n",
       "21071  roughly year ago I close out my account with j...  \n",
       "\n",
       "[21072 rows x 2 columns]"
      ]
     },
     "execution_count": 23,
     "metadata": {},
     "output_type": "execute_result"
    }
   ],
   "source": [
    "df_clean"
   ]
  },
  {
   "cell_type": "code",
   "execution_count": 24,
   "metadata": {
    "id": "Kk7fc4DuJrF1"
   },
   "outputs": [],
   "source": [
    "#Write your function to extract the POS tags \n",
    "def noun_singular(data):\n",
    "   \n",
    "    \n",
    "    # Creating a textblob object\n",
    "    txt_blob = TextBlob(data)\n",
    "    \n",
    "    # extracting words with tags 'NN', joining them and return\n",
    "    return ' '.join([ word for (word,tag) in txt_blob.tags if tag == \"NN\"])"
   ]
  },
  {
   "cell_type": "code",
   "execution_count": null,
   "metadata": {},
   "outputs": [],
   "source": [
    "#!pip install TextBlob"
   ]
  },
  {
   "cell_type": "code",
   "execution_count": 25,
   "metadata": {},
   "outputs": [
    {
     "name": "stderr",
     "output_type": "stream",
     "text": [
      "[nltk_data] Downloading package averaged_perceptron_tagger to\n",
      "[nltk_data]     C:\\Users\\SHAOWN\\AppData\\Roaming\\nltk_data...\n",
      "[nltk_data]   Package averaged_perceptron_tagger is already up-to-\n",
      "[nltk_data]       date!\n"
     ]
    },
    {
     "data": {
      "text/plain": [
       "True"
      ]
     },
     "execution_count": 25,
     "metadata": {},
     "output_type": "execute_result"
    }
   ],
   "source": [
    "from textblob import TextBlob\n",
    "import nltk\n",
    "nltk.download('averaged_perceptron_tagger')"
   ]
  },
  {
   "cell_type": "code",
   "execution_count": 26,
   "metadata": {},
   "outputs": [
    {
     "name": "stderr",
     "output_type": "stream",
     "text": [
      "<ipython-input-26-44948cef561f>:1: SettingWithCopyWarning:\n",
      "\n",
      "\n",
      "A value is trying to be set on a copy of a slice from a DataFrame.\n",
      "Try using .loc[row_indexer,col_indexer] = value instead\n",
      "\n",
      "See the caveats in the documentation: https://pandas.pydata.org/pandas-docs/stable/user_guide/indexing.html#returning-a-view-versus-a-copy\n",
      "\n"
     ]
    },
    {
     "data": {
      "text/html": [
       "<div>\n",
       "<style scoped>\n",
       "    .dataframe tbody tr th:only-of-type {\n",
       "        vertical-align: middle;\n",
       "    }\n",
       "\n",
       "    .dataframe tbody tr th {\n",
       "        vertical-align: top;\n",
       "    }\n",
       "\n",
       "    .dataframe thead th {\n",
       "        text-align: right;\n",
       "    }\n",
       "</style>\n",
       "<table border=\"1\" class=\"dataframe\">\n",
       "  <thead>\n",
       "    <tr style=\"text-align: right;\">\n",
       "      <th></th>\n",
       "      <th>complaint_what_happened</th>\n",
       "      <th>lemma_complaints</th>\n",
       "      <th>POS_complaint_singular</th>\n",
       "    </tr>\n",
       "  </thead>\n",
       "  <tbody>\n",
       "    <tr>\n",
       "      <th>0</th>\n",
       "      <td>good morning my name is and i appreciate it if...</td>\n",
       "      <td>good morning my name be and I appreciate it if...</td>\n",
       "      <td>morning name stop bank cardmember service ask ...</td>\n",
       "    </tr>\n",
       "    <tr>\n",
       "      <th>1</th>\n",
       "      <td>i upgraded my card in and was told by the agen...</td>\n",
       "      <td>I upgrade my card in and be tell by the agent ...</td>\n",
       "      <td>card agent upgrade date agent information orde...</td>\n",
       "    </tr>\n",
       "    <tr>\n",
       "      <th>2</th>\n",
       "      <td>chase card was reported on however fraudulent ...</td>\n",
       "      <td>chase card be report on however fraudulent app...</td>\n",
       "      <td>card report application identity consent servi...</td>\n",
       "    </tr>\n",
       "    <tr>\n",
       "      <th>3</th>\n",
       "      <td>on while trying to book a ticket i came across...</td>\n",
       "      <td>on while try to book a ticket I come across an...</td>\n",
       "      <td>try book ticket offer ticket card information ...</td>\n",
       "    </tr>\n",
       "    <tr>\n",
       "      <th>4</th>\n",
       "      <td>my grand son give me check for i deposit it in...</td>\n",
       "      <td>my grand son give I check for I deposit it int...</td>\n",
       "      <td>son chase account fund bank account pay money ...</td>\n",
       "    </tr>\n",
       "  </tbody>\n",
       "</table>\n",
       "</div>"
      ],
      "text/plain": [
       "                             complaint_what_happened  \\\n",
       "0  good morning my name is and i appreciate it if...   \n",
       "1  i upgraded my card in and was told by the agen...   \n",
       "2  chase card was reported on however fraudulent ...   \n",
       "3  on while trying to book a ticket i came across...   \n",
       "4  my grand son give me check for i deposit it in...   \n",
       "\n",
       "                                    lemma_complaints  \\\n",
       "0  good morning my name be and I appreciate it if...   \n",
       "1  I upgrade my card in and be tell by the agent ...   \n",
       "2  chase card be report on however fraudulent app...   \n",
       "3  on while try to book a ticket I come across an...   \n",
       "4  my grand son give I check for I deposit it int...   \n",
       "\n",
       "                              POS_complaint_singular  \n",
       "0  morning name stop bank cardmember service ask ...  \n",
       "1  card agent upgrade date agent information orde...  \n",
       "2  card report application identity consent servi...  \n",
       "3  try book ticket offer ticket card information ...  \n",
       "4  son chase account fund bank account pay money ...  "
      ]
     },
     "execution_count": 26,
     "metadata": {},
     "output_type": "execute_result"
    }
   ],
   "source": [
    "df_clean[\"POS_complaint_singular\"] =  df_clean.apply(lambda x: noun_singular(x['lemma_complaints']), axis=1)\n",
    "\n",
    "# View the dataframe\n",
    "df_clean.head()"
   ]
  },
  {
   "cell_type": "code",
   "execution_count": 27,
   "metadata": {
    "id": "AjxfchvFJrF2"
   },
   "outputs": [
    {
     "data": {
      "text/html": [
       "<div>\n",
       "<style scoped>\n",
       "    .dataframe tbody tr th:only-of-type {\n",
       "        vertical-align: middle;\n",
       "    }\n",
       "\n",
       "    .dataframe tbody tr th {\n",
       "        vertical-align: top;\n",
       "    }\n",
       "\n",
       "    .dataframe thead th {\n",
       "        text-align: right;\n",
       "    }\n",
       "</style>\n",
       "<table border=\"1\" class=\"dataframe\">\n",
       "  <thead>\n",
       "    <tr style=\"text-align: right;\">\n",
       "      <th></th>\n",
       "      <th>complaint_what_happened</th>\n",
       "      <th>lemma_complaints</th>\n",
       "      <th>POS_complaint_singular</th>\n",
       "    </tr>\n",
       "  </thead>\n",
       "  <tbody>\n",
       "    <tr>\n",
       "      <th>0</th>\n",
       "      <td>good morning my name is and i appreciate it if...</td>\n",
       "      <td>good morning my name be and I appreciate it if...</td>\n",
       "      <td>morning name stop bank cardmember service ask ...</td>\n",
       "    </tr>\n",
       "    <tr>\n",
       "      <th>1</th>\n",
       "      <td>i upgraded my card in and was told by the agen...</td>\n",
       "      <td>I upgrade my card in and be tell by the agent ...</td>\n",
       "      <td>card agent upgrade date agent information orde...</td>\n",
       "    </tr>\n",
       "    <tr>\n",
       "      <th>2</th>\n",
       "      <td>chase card was reported on however fraudulent ...</td>\n",
       "      <td>chase card be report on however fraudulent app...</td>\n",
       "      <td>card report application identity consent servi...</td>\n",
       "    </tr>\n",
       "    <tr>\n",
       "      <th>3</th>\n",
       "      <td>on while trying to book a ticket i came across...</td>\n",
       "      <td>on while try to book a ticket I come across an...</td>\n",
       "      <td>try book ticket offer ticket card information ...</td>\n",
       "    </tr>\n",
       "    <tr>\n",
       "      <th>4</th>\n",
       "      <td>my grand son give me check for i deposit it in...</td>\n",
       "      <td>my grand son give I check for I deposit it int...</td>\n",
       "      <td>son chase account fund bank account pay money ...</td>\n",
       "    </tr>\n",
       "    <tr>\n",
       "      <th>...</th>\n",
       "      <td>...</td>\n",
       "      <td>...</td>\n",
       "      <td>...</td>\n",
       "    </tr>\n",
       "    <tr>\n",
       "      <th>21067</th>\n",
       "      <td>after being a chase card customer for well ove...</td>\n",
       "      <td>after be a chase card customer for well over a...</td>\n",
       "      <td>card customer decade solicitation credit card ...</td>\n",
       "    </tr>\n",
       "    <tr>\n",
       "      <th>21068</th>\n",
       "      <td>on wednesday i called chas my visa credit card...</td>\n",
       "      <td>on wednesday I call cha my visa credit card pr...</td>\n",
       "      <td>wednesday credit card provider claim purchase ...</td>\n",
       "    </tr>\n",
       "    <tr>\n",
       "      <th>21069</th>\n",
       "      <td>i am not familiar with pay and did not underst...</td>\n",
       "      <td>I be not familiar with pay and do not understa...</td>\n",
       "      <td>pay risk provide consumer bank app chase year ...</td>\n",
       "    </tr>\n",
       "    <tr>\n",
       "      <th>21070</th>\n",
       "      <td>i have had flawless credit for yrs i ve had ch...</td>\n",
       "      <td>I have have flawless credit for yrs I ve have ...</td>\n",
       "      <td>credit yrs credit card chase freedom problem b...</td>\n",
       "    </tr>\n",
       "    <tr>\n",
       "      <th>21071</th>\n",
       "      <td>roughly years ago i closed out my accounts wit...</td>\n",
       "      <td>roughly year ago I close out my account with j...</td>\n",
       "      <td>year account jp bank order line credit account...</td>\n",
       "    </tr>\n",
       "  </tbody>\n",
       "</table>\n",
       "<p>21072 rows × 3 columns</p>\n",
       "</div>"
      ],
      "text/plain": [
       "                                 complaint_what_happened  \\\n",
       "0      good morning my name is and i appreciate it if...   \n",
       "1      i upgraded my card in and was told by the agen...   \n",
       "2      chase card was reported on however fraudulent ...   \n",
       "3      on while trying to book a ticket i came across...   \n",
       "4      my grand son give me check for i deposit it in...   \n",
       "...                                                  ...   \n",
       "21067  after being a chase card customer for well ove...   \n",
       "21068  on wednesday i called chas my visa credit card...   \n",
       "21069  i am not familiar with pay and did not underst...   \n",
       "21070  i have had flawless credit for yrs i ve had ch...   \n",
       "21071  roughly years ago i closed out my accounts wit...   \n",
       "\n",
       "                                        lemma_complaints  \\\n",
       "0      good morning my name be and I appreciate it if...   \n",
       "1      I upgrade my card in and be tell by the agent ...   \n",
       "2      chase card be report on however fraudulent app...   \n",
       "3      on while try to book a ticket I come across an...   \n",
       "4      my grand son give I check for I deposit it int...   \n",
       "...                                                  ...   \n",
       "21067  after be a chase card customer for well over a...   \n",
       "21068  on wednesday I call cha my visa credit card pr...   \n",
       "21069  I be not familiar with pay and do not understa...   \n",
       "21070  I have have flawless credit for yrs I ve have ...   \n",
       "21071  roughly year ago I close out my account with j...   \n",
       "\n",
       "                                  POS_complaint_singular  \n",
       "0      morning name stop bank cardmember service ask ...  \n",
       "1      card agent upgrade date agent information orde...  \n",
       "2      card report application identity consent servi...  \n",
       "3      try book ticket offer ticket card information ...  \n",
       "4      son chase account fund bank account pay money ...  \n",
       "...                                                  ...  \n",
       "21067  card customer decade solicitation credit card ...  \n",
       "21068  wednesday credit card provider claim purchase ...  \n",
       "21069  pay risk provide consumer bank app chase year ...  \n",
       "21070  credit yrs credit card chase freedom problem b...  \n",
       "21071  year account jp bank order line credit account...  \n",
       "\n",
       "[21072 rows x 3 columns]"
      ]
     },
     "execution_count": 27,
     "metadata": {},
     "output_type": "execute_result"
    }
   ],
   "source": [
    "#The clean dataframe should now contain the raw complaint, lemmatized complaint and the complaint after removing POS tags.\n",
    "df_clean"
   ]
  },
  {
   "cell_type": "markdown",
   "metadata": {
    "id": "_7Un1AElJrF2"
   },
   "source": [
    "## Exploratory data analysis to get familiar with the data.\n",
    "\n",
    "Write the code in this task to perform the following:\n",
    "\n",
    "*   Visualise the data according to the 'Complaint' character length\n",
    "*   Using a word cloud find the top 40 words by frequency among all the articles after processing the text\n",
    "*   Find the top unigrams,bigrams and trigrams by frequency among all the complaints after processing the text. ‘\n",
    "\n",
    "\n"
   ]
  },
  {
   "cell_type": "code",
   "execution_count": 28,
   "metadata": {},
   "outputs": [
    {
     "data": {
      "text/plain": [
       "[159, 91, 74, 419, 161, 7, 630, 605, 1153, 51]"
      ]
     },
     "execution_count": 28,
     "metadata": {},
     "output_type": "execute_result"
    }
   ],
   "source": [
    "charcter_len=[len(x) for x in df_clean['POS_complaint_singular']]\n",
    "charcter_len[:10]"
   ]
  },
  {
   "cell_type": "code",
   "execution_count": 29,
   "metadata": {
    "id": "q-zaqJF6JrF2"
   },
   "outputs": [
    {
     "data": {
      "text/plain": [
       "Text(0, 0.5, 'Complaint Numbers')"
      ]
     },
     "execution_count": 29,
     "metadata": {},
     "output_type": "execute_result"
    },
    {
     "data": {
      "image/png": "[encoded data removed]",
      "text/plain": [
       "<Figure size 1080x576 with 1 Axes>"
      ]
     },
     "metadata": {
      "needs_background": "light"
     },
     "output_type": "display_data"
    }
   ],
   "source": [
    "# Write your code here to visualise the data according to the 'Complaint' character length\n",
    "plt.figure(figsize=[15,8])\n",
    "sns.histplot(data = charcter_len,bins=25)\n",
    "plt.title('Complaint Character Length Distribution', fontsize=20)\n",
    "plt.xlabel('Complaint Character Length',size=15)\n",
    "plt.ylabel('Complaint Numbers',size=15)"
   ]
  },
  {
   "cell_type": "markdown",
   "metadata": {
    "id": "T9jD_6SeJrF3"
   },
   "source": [
    "#### Find the top 40 words by frequency among all the articles after processing the text."
   ]
  },
  {
   "cell_type": "code",
   "execution_count": null,
   "metadata": {},
   "outputs": [],
   "source": [
    "#!pip install wordcloud"
   ]
  },
  {
   "cell_type": "code",
   "execution_count": 30,
   "metadata": {},
   "outputs": [],
   "source": [
    "from wordcloud import WordCloud, STOPWORDS"
   ]
  },
  {
   "cell_type": "code",
   "execution_count": 31,
   "metadata": {
    "id": "QcfdvtfZJrF3"
   },
   "outputs": [
    {
     "data": {
      "image/png": "[encoded data removed]",
      "text/plain": [
       "<Figure size 1800x1440 with 1 Axes>"
      ]
     },
     "metadata": {
      "needs_background": "light"
     },
     "output_type": "display_data"
    }
   ],
   "source": [
    "#Using a word cloud find the top 40 words by frequency among all the articles after processing the text\n",
    "stop_words = set(STOPWORDS)\n",
    "word_cloud = WordCloud(\n",
    "                          background_color='pink',\n",
    "                          stopwords=stop_words,\n",
    "                          max_font_size=40,\n",
    "                          max_words=40, \n",
    "                          random_state=40\n",
    "                         ).generate(str(df_clean['POS_complaint_singular']))\n",
    "\n",
    "fig = plt.figure(figsize=(25,20))\n",
    "plt.imshow(word_cloud)\n",
    "plt.axis('off')\n",
    "plt.show()"
   ]
  },
  {
   "cell_type": "code",
   "execution_count": 32,
   "metadata": {
    "id": "OkSmc3UaJrF4"
   },
   "outputs": [
    {
     "name": "stderr",
     "output_type": "stream",
     "text": [
      "<ipython-input-32-12f851342179>:2: SettingWithCopyWarning:\n",
      "\n",
      "\n",
      "A value is trying to be set on a copy of a slice from a DataFrame.\n",
      "Try using .loc[row_indexer,col_indexer] = value instead\n",
      "\n",
      "See the caveats in the documentation: https://pandas.pydata.org/pandas-docs/stable/user_guide/indexing.html#returning-a-view-versus-a-copy\n",
      "\n"
     ]
    }
   ],
   "source": [
    "#Removing -PRON- from the text corpus\n",
    "df_clean['Complaint_clean'] = df_clean['POS_complaint_singular'].str.replace('-PRON-', '')"
   ]
  },
  {
   "cell_type": "markdown",
   "metadata": {
    "id": "5DfCSbbmJrF4"
   },
   "source": [
    "#### Find the top unigrams,bigrams and trigrams by frequency among all the complaints after processing the text."
   ]
  },
  {
   "cell_type": "code",
   "execution_count": 48,
   "metadata": {
    "id": "5mbk5DS5JrF4"
   },
   "outputs": [],
   "source": [
    "#Write your code here to find the top 30 unigram frequency among the complaints in the cleaned datafram(df_clean). \n",
    "\n",
    "def get_top30_unigram(text, n=30):\n",
    "\n",
    "    vector = CountVectorizer(stop_words='english').fit(text)\n",
    "    bag_of_words = vector.transform(text)\n",
    "    sum_of_words = bag_of_words.sum(axis=0) \n",
    "    word_freq = [(word, sum_of_words[0, idx]) for word, idx in vector.vocabulary_.items()]\n",
    "    word_freq =sorted(word_freq, key = lambda x: x[1], reverse=True)\n",
    "    return word_freq[:n]"
   ]
  },
  {
   "cell_type": "code",
   "execution_count": null,
   "metadata": {},
   "outputs": [],
   "source": []
  },
  {
   "cell_type": "code",
   "execution_count": 49,
   "metadata": {
    "id": "YX7fedm1JrF8"
   },
   "outputs": [
    {
     "data": {
      "text/html": [
       "<div>\n",
       "<style scoped>\n",
       "    .dataframe tbody tr th:only-of-type {\n",
       "        vertical-align: middle;\n",
       "    }\n",
       "\n",
       "    .dataframe tbody tr th {\n",
       "        vertical-align: top;\n",
       "    }\n",
       "\n",
       "    .dataframe thead th {\n",
       "        text-align: right;\n",
       "    }\n",
       "</style>\n",
       "<table border=\"1\" class=\"dataframe\">\n",
       "  <thead>\n",
       "    <tr style=\"text-align: right;\">\n",
       "      <th></th>\n",
       "      <th>unigram</th>\n",
       "      <th>count</th>\n",
       "    </tr>\n",
       "  </thead>\n",
       "  <tbody>\n",
       "    <tr>\n",
       "      <th>0</th>\n",
       "      <td>account</td>\n",
       "      <td>47573</td>\n",
       "    </tr>\n",
       "    <tr>\n",
       "      <th>1</th>\n",
       "      <td>chase</td>\n",
       "      <td>46794</td>\n",
       "    </tr>\n",
       "    <tr>\n",
       "      <th>2</th>\n",
       "      <td>credit</td>\n",
       "      <td>34320</td>\n",
       "    </tr>\n",
       "    <tr>\n",
       "      <th>3</th>\n",
       "      <td>card</td>\n",
       "      <td>29276</td>\n",
       "    </tr>\n",
       "    <tr>\n",
       "      <th>4</th>\n",
       "      <td>bank</td>\n",
       "      <td>28546</td>\n",
       "    </tr>\n",
       "    <tr>\n",
       "      <th>5</th>\n",
       "      <td>payment</td>\n",
       "      <td>21332</td>\n",
       "    </tr>\n",
       "    <tr>\n",
       "      <th>6</th>\n",
       "      <td>time</td>\n",
       "      <td>16321</td>\n",
       "    </tr>\n",
       "    <tr>\n",
       "      <th>7</th>\n",
       "      <td>charge</td>\n",
       "      <td>15185</td>\n",
       "    </tr>\n",
       "    <tr>\n",
       "      <th>8</th>\n",
       "      <td>day</td>\n",
       "      <td>13312</td>\n",
       "    </tr>\n",
       "    <tr>\n",
       "      <th>9</th>\n",
       "      <td>money</td>\n",
       "      <td>11984</td>\n",
       "    </tr>\n",
       "  </tbody>\n",
       "</table>\n",
       "</div>"
      ],
      "text/plain": [
       "   unigram  count\n",
       "0  account  47573\n",
       "1    chase  46794\n",
       "2   credit  34320\n",
       "3     card  29276\n",
       "4     bank  28546\n",
       "5  payment  21332\n",
       "6     time  16321\n",
       "7   charge  15185\n",
       "8      day  13312\n",
       "9    money  11984"
      ]
     },
     "execution_count": 49,
     "metadata": {},
     "output_type": "execute_result"
    }
   ],
   "source": [
    "#Print the top 10 words in the unigram frequency\n",
    "top_30_words = get_top30_unigram(df_clean['Complaint_clean'].values.astype('U'))\n",
    "df_unigram = pd.DataFrame(top_30_words, columns = ['unigram' , 'count'])\n",
    "df_unigram.head(10)"
   ]
  },
  {
   "cell_type": "code",
   "execution_count": null,
   "metadata": {
    "id": "aV7kD7w8JrF8"
   },
   "outputs": [],
   "source": [
    "#Write your code here to find the top 30 bigram frequency among the complaints in the cleaned datafram(df_clean). \n",
    "plt.figure(figsize=(15,8))\n",
    "sns.barplot(x='unigram', y='count', data=df_unigram, palette=\"rocket\")\n",
    "plt.xticks(rotation=90)\n",
    "plt.title(\"Top 30 unigrams in the Complaint text\", fontsize=20)\n",
    "plt.show()"
   ]
  },
  {
   "cell_type": "code",
   "execution_count": null,
   "metadata": {
    "id": "NPnMNIpyJrF9"
   },
   "outputs": [],
   "source": [
    "#Print the top 10 words in the bigram frequency"
   ]
  },
  {
   "cell_type": "code",
   "execution_count": null,
   "metadata": {
    "id": "Xkh7vtbtJrF-"
   },
   "outputs": [],
   "source": [
    "#Write your code here to find the top 30 trigram frequency among the complaints in the cleaned datafram(df_clean). \n"
   ]
  },
  {
   "cell_type": "code",
   "execution_count": null,
   "metadata": {
    "id": "REcVxNfvJrF-"
   },
   "outputs": [],
   "source": [
    "#Print the top 10 words in the trigram frequency"
   ]
  },
  {
   "cell_type": "markdown",
   "metadata": {
    "id": "yUXzFji0JrF_"
   },
   "source": [
    "## The personal details of customer has been masked in the dataset with xxxx. Let's remove the masked text as this will be of no use for our analysis"
   ]
  },
  {
   "cell_type": "code",
   "execution_count": null,
   "metadata": {
    "id": "wKda-a_IJrF_"
   },
   "outputs": [],
   "source": [
    "#It has already been removed earlier\n",
    "#df_clean['Complaint_clean'] = df_clean['Complaint_clean'].str.replace('xxxx','')"
   ]
  },
  {
   "cell_type": "code",
   "execution_count": 33,
   "metadata": {
    "id": "9UIFk8fQJrF_"
   },
   "outputs": [
    {
     "data": {
      "text/html": [
       "<div>\n",
       "<style scoped>\n",
       "    .dataframe tbody tr th:only-of-type {\n",
       "        vertical-align: middle;\n",
       "    }\n",
       "\n",
       "    .dataframe tbody tr th {\n",
       "        vertical-align: top;\n",
       "    }\n",
       "\n",
       "    .dataframe thead th {\n",
       "        text-align: right;\n",
       "    }\n",
       "</style>\n",
       "<table border=\"1\" class=\"dataframe\">\n",
       "  <thead>\n",
       "    <tr style=\"text-align: right;\">\n",
       "      <th></th>\n",
       "      <th>complaint_what_happened</th>\n",
       "      <th>lemma_complaints</th>\n",
       "      <th>POS_complaint_singular</th>\n",
       "      <th>Complaint_clean</th>\n",
       "    </tr>\n",
       "  </thead>\n",
       "  <tbody>\n",
       "    <tr>\n",
       "      <th>0</th>\n",
       "      <td>good morning my name is and i appreciate it if...</td>\n",
       "      <td>good morning my name be and I appreciate it if...</td>\n",
       "      <td>morning name stop bank cardmember service ask ...</td>\n",
       "      <td>morning name stop bank cardmember service ask ...</td>\n",
       "    </tr>\n",
       "    <tr>\n",
       "      <th>1</th>\n",
       "      <td>i upgraded my card in and was told by the agen...</td>\n",
       "      <td>I upgrade my card in and be tell by the agent ...</td>\n",
       "      <td>card agent upgrade date agent information orde...</td>\n",
       "      <td>card agent upgrade date agent information orde...</td>\n",
       "    </tr>\n",
       "    <tr>\n",
       "      <th>2</th>\n",
       "      <td>chase card was reported on however fraudulent ...</td>\n",
       "      <td>chase card be report on however fraudulent app...</td>\n",
       "      <td>card report application identity consent servi...</td>\n",
       "      <td>card report application identity consent servi...</td>\n",
       "    </tr>\n",
       "    <tr>\n",
       "      <th>3</th>\n",
       "      <td>on while trying to book a ticket i came across...</td>\n",
       "      <td>on while try to book a ticket I come across an...</td>\n",
       "      <td>try book ticket offer ticket card information ...</td>\n",
       "      <td>try book ticket offer ticket card information ...</td>\n",
       "    </tr>\n",
       "    <tr>\n",
       "      <th>4</th>\n",
       "      <td>my grand son give me check for i deposit it in...</td>\n",
       "      <td>my grand son give I check for I deposit it int...</td>\n",
       "      <td>son chase account fund bank account pay money ...</td>\n",
       "      <td>son chase account fund bank account pay money ...</td>\n",
       "    </tr>\n",
       "    <tr>\n",
       "      <th>...</th>\n",
       "      <td>...</td>\n",
       "      <td>...</td>\n",
       "      <td>...</td>\n",
       "      <td>...</td>\n",
       "    </tr>\n",
       "    <tr>\n",
       "      <th>21067</th>\n",
       "      <td>after being a chase card customer for well ove...</td>\n",
       "      <td>after be a chase card customer for well over a...</td>\n",
       "      <td>card customer decade solicitation credit card ...</td>\n",
       "      <td>card customer decade solicitation credit card ...</td>\n",
       "    </tr>\n",
       "    <tr>\n",
       "      <th>21068</th>\n",
       "      <td>on wednesday i called chas my visa credit card...</td>\n",
       "      <td>on wednesday I call cha my visa credit card pr...</td>\n",
       "      <td>wednesday credit card provider claim purchase ...</td>\n",
       "      <td>wednesday credit card provider claim purchase ...</td>\n",
       "    </tr>\n",
       "    <tr>\n",
       "      <th>21069</th>\n",
       "      <td>i am not familiar with pay and did not underst...</td>\n",
       "      <td>I be not familiar with pay and do not understa...</td>\n",
       "      <td>pay risk provide consumer bank app chase year ...</td>\n",
       "      <td>pay risk provide consumer bank app chase year ...</td>\n",
       "    </tr>\n",
       "    <tr>\n",
       "      <th>21070</th>\n",
       "      <td>i have had flawless credit for yrs i ve had ch...</td>\n",
       "      <td>I have have flawless credit for yrs I ve have ...</td>\n",
       "      <td>credit yrs credit card chase freedom problem b...</td>\n",
       "      <td>credit yrs credit card chase freedom problem b...</td>\n",
       "    </tr>\n",
       "    <tr>\n",
       "      <th>21071</th>\n",
       "      <td>roughly years ago i closed out my accounts wit...</td>\n",
       "      <td>roughly year ago I close out my account with j...</td>\n",
       "      <td>year account jp bank order line credit account...</td>\n",
       "      <td>year account jp bank order line credit account...</td>\n",
       "    </tr>\n",
       "  </tbody>\n",
       "</table>\n",
       "<p>21072 rows × 4 columns</p>\n",
       "</div>"
      ],
      "text/plain": [
       "                                 complaint_what_happened  \\\n",
       "0      good morning my name is and i appreciate it if...   \n",
       "1      i upgraded my card in and was told by the agen...   \n",
       "2      chase card was reported on however fraudulent ...   \n",
       "3      on while trying to book a ticket i came across...   \n",
       "4      my grand son give me check for i deposit it in...   \n",
       "...                                                  ...   \n",
       "21067  after being a chase card customer for well ove...   \n",
       "21068  on wednesday i called chas my visa credit card...   \n",
       "21069  i am not familiar with pay and did not underst...   \n",
       "21070  i have had flawless credit for yrs i ve had ch...   \n",
       "21071  roughly years ago i closed out my accounts wit...   \n",
       "\n",
       "                                        lemma_complaints  \\\n",
       "0      good morning my name be and I appreciate it if...   \n",
       "1      I upgrade my card in and be tell by the agent ...   \n",
       "2      chase card be report on however fraudulent app...   \n",
       "3      on while try to book a ticket I come across an...   \n",
       "4      my grand son give I check for I deposit it int...   \n",
       "...                                                  ...   \n",
       "21067  after be a chase card customer for well over a...   \n",
       "21068  on wednesday I call cha my visa credit card pr...   \n",
       "21069  I be not familiar with pay and do not understa...   \n",
       "21070  I have have flawless credit for yrs I ve have ...   \n",
       "21071  roughly year ago I close out my account with j...   \n",
       "\n",
       "                                  POS_complaint_singular  \\\n",
       "0      morning name stop bank cardmember service ask ...   \n",
       "1      card agent upgrade date agent information orde...   \n",
       "2      card report application identity consent servi...   \n",
       "3      try book ticket offer ticket card information ...   \n",
       "4      son chase account fund bank account pay money ...   \n",
       "...                                                  ...   \n",
       "21067  card customer decade solicitation credit card ...   \n",
       "21068  wednesday credit card provider claim purchase ...   \n",
       "21069  pay risk provide consumer bank app chase year ...   \n",
       "21070  credit yrs credit card chase freedom problem b...   \n",
       "21071  year account jp bank order line credit account...   \n",
       "\n",
       "                                         Complaint_clean  \n",
       "0      morning name stop bank cardmember service ask ...  \n",
       "1      card agent upgrade date agent information orde...  \n",
       "2      card report application identity consent servi...  \n",
       "3      try book ticket offer ticket card information ...  \n",
       "4      son chase account fund bank account pay money ...  \n",
       "...                                                  ...  \n",
       "21067  card customer decade solicitation credit card ...  \n",
       "21068  wednesday credit card provider claim purchase ...  \n",
       "21069  pay risk provide consumer bank app chase year ...  \n",
       "21070  credit yrs credit card chase freedom problem b...  \n",
       "21071  year account jp bank order line credit account...  \n",
       "\n",
       "[21072 rows x 4 columns]"
      ]
     },
     "execution_count": 33,
     "metadata": {},
     "output_type": "execute_result"
    }
   ],
   "source": [
    "#All masked texts has been removed\n",
    "df_clean"
   ]
  },
  {
   "cell_type": "markdown",
   "metadata": {
    "id": "k-I0k0QtJrGA"
   },
   "source": [
    "## Feature Extraction\n",
    "Convert the raw texts to a matrix of TF-IDF features\n",
    "\n",
    "**max_df** is used for removing terms that appear too frequently, also known as \"corpus-specific stop words\"\n",
    "max_df = 0.95 means \"ignore terms that appear in more than 95% of the complaints\"\n",
    "\n",
    "**min_df** is used for removing terms that appear too infrequently\n",
    "min_df = 2 means \"ignore terms that appear in less than 2 complaints\""
   ]
  },
  {
   "cell_type": "code",
   "execution_count": 34,
   "metadata": {
    "id": "Y8fGwaCPJrGA"
   },
   "outputs": [],
   "source": [
    "#Write your code here to initialise the TfidfVectorizer \n",
    "\n",
    "TfidfVectorizer=TfidfVectorizer(max_df=0.95,min_df=2,stop_words='english')"
   ]
  },
  {
   "cell_type": "markdown",
   "metadata": {
    "id": "yYzD85nTJrGA"
   },
   "source": [
    "#### Create a document term matrix using fit_transform\n",
    "\n",
    "The contents of a document term matrix are tuples of (complaint_id,token_id) tf-idf score:\n",
    "The tuples that are not there have a tf-idf score of 0"
   ]
  },
  {
   "cell_type": "code",
   "execution_count": 35,
   "metadata": {
    "id": "ffzdDpp_JrGB"
   },
   "outputs": [],
   "source": [
    "#Write your code here to create the Document Term Matrix by transforming the complaints column present in df_clean.\n",
    "doc_term_matrix=TfidfVectorizer.fit_transform(df_clean['POS_complaint_singular'])"
   ]
  },
  {
   "cell_type": "markdown",
   "metadata": {
    "id": "7Q9lwvNEJrGB"
   },
   "source": [
    "## Topic Modelling using NMF\n",
    "\n",
    "Non-Negative Matrix Factorization (NMF) is an unsupervised technique so there are no labeling of topics that the model will be trained on. The way it works is that, NMF decomposes (or factorizes) high-dimensional vectors into a lower-dimensional representation. These lower-dimensional vectors are non-negative which also means their coefficients are non-negative.\n",
    "\n",
    "In this task you have to perform the following:\n",
    "\n",
    "* Find the best number of clusters \n",
    "* Apply the best number to create word clusters\n",
    "* Inspect & validate the correction of each cluster wrt the complaints \n",
    "* Correct the labels if needed \n",
    "* Map the clusters to topics/cluster names"
   ]
  },
  {
   "cell_type": "code",
   "execution_count": 36,
   "metadata": {
    "id": "amLT4omWJrGB"
   },
   "outputs": [],
   "source": [
    "from sklearn.decomposition import NMF"
   ]
  },
  {
   "cell_type": "markdown",
   "metadata": {
    "id": "0wYR1xUTJrGD"
   },
   "source": [
    "## Manual Topic Modeling\n",
    "You need to do take the trial & error approach to find the best num of topics for your NMF model.\n",
    "\n",
    "The only parameter that is required is the number of components i.e. the number of topics we want. This is the most crucial step in the whole topic modeling process and will greatly affect how good your final topics are."
   ]
  },
  {
   "cell_type": "code",
   "execution_count": 37,
   "metadata": {
    "id": "sgd2A6bhJrGD"
   },
   "outputs": [],
   "source": [
    "#Load your nmf_model with the n_components i.e 5\n",
    "num_topics = 5 #write the value you want to test out\n",
    "\n",
    "#keep the random_state =40\n",
    "nmf_model = NMF(n_components=num_topics, random_state=40)  #write your code here"
   ]
  },
  {
   "cell_type": "code",
   "execution_count": 38,
   "metadata": {
    "id": "VPMDYbt_JrGE"
   },
   "outputs": [
    {
     "name": "stderr",
     "output_type": "stream",
     "text": [
      "C:\\Users\\SHAOWN\\anaconda3\\lib\\site-packages\\sklearn\\decomposition\\_nmf.py:312: FutureWarning:\n",
      "\n",
      "The 'init' value, when 'init=None' and n_components is less than n_samples and n_features, will be changed from 'nndsvd' to 'nndsvda' in 1.1 (renaming of 0.26).\n",
      "\n"
     ]
    },
    {
     "data": {
      "text/plain": [
       "6858"
      ]
     },
     "execution_count": 38,
     "metadata": {},
     "output_type": "execute_result"
    }
   ],
   "source": [
    "nmf_model.fit(doc_term_matrix)\n",
    "len(TfidfVectorizer.get_feature_names())"
   ]
  },
  {
   "cell_type": "code",
   "execution_count": 39,
   "metadata": {},
   "outputs": [
    {
     "name": "stdout",
     "output_type": "stream",
     "text": [
      "number\n",
      "day\n",
      "branch\n",
      "deposit\n",
      "chase\n",
      "fund\n",
      "money\n",
      "check\n",
      "bank\n",
      "account\n"
     ]
    }
   ],
   "source": [
    "topic_single = nmf_model.components_[0]\n",
    "topic_single.argsort()\n",
    "top_word_index = topic_single.argsort()[-10:]\n",
    "for index in top_word_index:\n",
    "    print(TfidfVectorizer.get_feature_names()[index])"
   ]
  },
  {
   "cell_type": "code",
   "execution_count": 40,
   "metadata": {
    "id": "16kRfat5JrGE"
   },
   "outputs": [
    {
     "name": "stdout",
     "output_type": "stream",
     "text": [
      "TOP 15 WORDS FOR TOPIC #0\n",
      "['customer', 'claim', 'checking', 'transaction', 'business', 'number', 'day', 'branch', 'deposit', 'chase', 'fund', 'money', 'check', 'bank', 'account']\n",
      "\n",
      "\n",
      "TOP 15 WORDS FOR TOPIC #1\n",
      "['balance', 'year', 'letter', 'application', 'debt', 'information', 'limit', 'company', 'score', 'account', 'chase', 'inquiry', 'report', 'card', 'credit']\n",
      "\n",
      "\n",
      "TOP 15 WORDS FOR TOPIC #2\n",
      "['year', 'mortgage', 'chase', 'account', 'credit', 'date', 'pay', 'time', 'day', 'auto', 'statement', 'fee', 'month', 'balance', 'payment']\n",
      "\n",
      "\n",
      "TOP 15 WORDS FOR TOPIC #3\n",
      "['company', 'refund', 'statement', 'time', 'service', 'claim', 'purchase', 'fraud', 'merchant', 'chase', 'dispute', 'transaction', 'fee', 'card', 'charge']\n",
      "\n",
      "\n",
      "TOP 15 WORDS FOR TOPIC #4\n",
      "['sale', 'foreclosure', 'house', 'bank', 'document', 'time', 'rate', 'letter', 'year', 'property', 'chase', 'modification', 'home', 'mortgage', 'loan']\n",
      "\n",
      "\n"
     ]
    }
   ],
   "source": [
    "#Print the Top15 words for each of the topics\n",
    "for index, topic in enumerate(nmf_model.components_):\n",
    "    print(f'TOP 15 WORDS FOR TOPIC #{index}')\n",
    "    print([TfidfVectorizer.get_feature_names()[i] for i in topic.argsort()[-15:]])\n",
    "    print('\\n')"
   ]
  },
  {
   "cell_type": "code",
   "execution_count": 41,
   "metadata": {
    "id": "0OIT7LmFJrGF"
   },
   "outputs": [
    {
     "data": {
      "text/plain": [
       "array([0, 1, 1, ..., 3, 2, 2], dtype=int64)"
      ]
     },
     "execution_count": 41,
     "metadata": {},
     "output_type": "execute_result"
    }
   ],
   "source": [
    "#Create the best topic for each complaint in terms of integer value 0,1,2,3 & 4\n",
    "\n",
    "topic_result = nmf_model.transform(doc_term_matrix)\n",
    "topic_result[0].round(2)\n",
    "topic_result[0].argmax()\n",
    "topic_result.argmax(axis=1)"
   ]
  },
  {
   "cell_type": "code",
   "execution_count": 42,
   "metadata": {
    "id": "peyYv-ORJrGF"
   },
   "outputs": [
    {
     "name": "stderr",
     "output_type": "stream",
     "text": [
      "<ipython-input-42-63743b2076a9>:3: SettingWithCopyWarning:\n",
      "\n",
      "\n",
      "A value is trying to be set on a copy of a slice from a DataFrame.\n",
      "Try using .loc[row_indexer,col_indexer] = value instead\n",
      "\n",
      "See the caveats in the documentation: https://pandas.pydata.org/pandas-docs/stable/user_guide/indexing.html#returning-a-view-versus-a-copy\n",
      "\n"
     ]
    }
   ],
   "source": [
    "#Assign the best topic to each of the cmplaints in Topic Column\n",
    "\n",
    "df_clean['Topic'] = topic_result.argmax(axis=1)#write your code to assign topics to each rows."
   ]
  },
  {
   "cell_type": "code",
   "execution_count": 43,
   "metadata": {
    "id": "fLh_Gf3nJrGF"
   },
   "outputs": [
    {
     "data": {
      "text/html": [
       "<div>\n",
       "<style scoped>\n",
       "    .dataframe tbody tr th:only-of-type {\n",
       "        vertical-align: middle;\n",
       "    }\n",
       "\n",
       "    .dataframe tbody tr th {\n",
       "        vertical-align: top;\n",
       "    }\n",
       "\n",
       "    .dataframe thead th {\n",
       "        text-align: right;\n",
       "    }\n",
       "</style>\n",
       "<table border=\"1\" class=\"dataframe\">\n",
       "  <thead>\n",
       "    <tr style=\"text-align: right;\">\n",
       "      <th></th>\n",
       "      <th>complaint_what_happened</th>\n",
       "      <th>lemma_complaints</th>\n",
       "      <th>POS_complaint_singular</th>\n",
       "      <th>Complaint_clean</th>\n",
       "      <th>Topic</th>\n",
       "    </tr>\n",
       "  </thead>\n",
       "  <tbody>\n",
       "    <tr>\n",
       "      <th>0</th>\n",
       "      <td>good morning my name is and i appreciate it if...</td>\n",
       "      <td>good morning my name be and I appreciate it if...</td>\n",
       "      <td>morning name stop bank cardmember service ask ...</td>\n",
       "      <td>morning name stop bank cardmember service ask ...</td>\n",
       "      <td>0</td>\n",
       "    </tr>\n",
       "    <tr>\n",
       "      <th>1</th>\n",
       "      <td>i upgraded my card in and was told by the agen...</td>\n",
       "      <td>I upgrade my card in and be tell by the agent ...</td>\n",
       "      <td>card agent upgrade date agent information orde...</td>\n",
       "      <td>card agent upgrade date agent information orde...</td>\n",
       "      <td>1</td>\n",
       "    </tr>\n",
       "    <tr>\n",
       "      <th>2</th>\n",
       "      <td>chase card was reported on however fraudulent ...</td>\n",
       "      <td>chase card be report on however fraudulent app...</td>\n",
       "      <td>card report application identity consent servi...</td>\n",
       "      <td>card report application identity consent servi...</td>\n",
       "      <td>1</td>\n",
       "    </tr>\n",
       "    <tr>\n",
       "      <th>3</th>\n",
       "      <td>on while trying to book a ticket i came across...</td>\n",
       "      <td>on while try to book a ticket I come across an...</td>\n",
       "      <td>try book ticket offer ticket card information ...</td>\n",
       "      <td>try book ticket offer ticket card information ...</td>\n",
       "      <td>1</td>\n",
       "    </tr>\n",
       "    <tr>\n",
       "      <th>4</th>\n",
       "      <td>my grand son give me check for i deposit it in...</td>\n",
       "      <td>my grand son give I check for I deposit it int...</td>\n",
       "      <td>son chase account fund bank account pay money ...</td>\n",
       "      <td>son chase account fund bank account pay money ...</td>\n",
       "      <td>0</td>\n",
       "    </tr>\n",
       "  </tbody>\n",
       "</table>\n",
       "</div>"
      ],
      "text/plain": [
       "                             complaint_what_happened  \\\n",
       "0  good morning my name is and i appreciate it if...   \n",
       "1  i upgraded my card in and was told by the agen...   \n",
       "2  chase card was reported on however fraudulent ...   \n",
       "3  on while trying to book a ticket i came across...   \n",
       "4  my grand son give me check for i deposit it in...   \n",
       "\n",
       "                                    lemma_complaints  \\\n",
       "0  good morning my name be and I appreciate it if...   \n",
       "1  I upgrade my card in and be tell by the agent ...   \n",
       "2  chase card be report on however fraudulent app...   \n",
       "3  on while try to book a ticket I come across an...   \n",
       "4  my grand son give I check for I deposit it int...   \n",
       "\n",
       "                              POS_complaint_singular  \\\n",
       "0  morning name stop bank cardmember service ask ...   \n",
       "1  card agent upgrade date agent information orde...   \n",
       "2  card report application identity consent servi...   \n",
       "3  try book ticket offer ticket card information ...   \n",
       "4  son chase account fund bank account pay money ...   \n",
       "\n",
       "                                     Complaint_clean  Topic  \n",
       "0  morning name stop bank cardmember service ask ...      0  \n",
       "1  card agent upgrade date agent information orde...      1  \n",
       "2  card report application identity consent servi...      1  \n",
       "3  try book ticket offer ticket card information ...      1  \n",
       "4  son chase account fund bank account pay money ...      0  "
      ]
     },
     "execution_count": 43,
     "metadata": {},
     "output_type": "execute_result"
    }
   ],
   "source": [
    "df_clean.head()"
   ]
  },
  {
   "cell_type": "code",
   "execution_count": 44,
   "metadata": {
    "id": "aQKpufSPJrGG"
   },
   "outputs": [
    {
     "data": {
      "text/html": [
       "<div>\n",
       "<style scoped>\n",
       "    .dataframe tbody tr th:only-of-type {\n",
       "        vertical-align: middle;\n",
       "    }\n",
       "\n",
       "    .dataframe tbody tr th {\n",
       "        vertical-align: top;\n",
       "    }\n",
       "\n",
       "    .dataframe thead th {\n",
       "        text-align: right;\n",
       "    }\n",
       "</style>\n",
       "<table border=\"1\" class=\"dataframe\">\n",
       "  <thead>\n",
       "    <tr style=\"text-align: right;\">\n",
       "      <th></th>\n",
       "      <th>complaint_what_happened</th>\n",
       "      <th>lemma_complaints</th>\n",
       "      <th>POS_complaint_singular</th>\n",
       "      <th>Complaint_clean</th>\n",
       "      <th>Topic</th>\n",
       "    </tr>\n",
       "  </thead>\n",
       "  <tbody>\n",
       "    <tr>\n",
       "      <th>0</th>\n",
       "      <td>good morning my name is and i appreciate it if...</td>\n",
       "      <td>good morning my name be and I appreciate it if...</td>\n",
       "      <td>morning name stop bank cardmember service ask ...</td>\n",
       "      <td>morning name stop bank cardmember service ask ...</td>\n",
       "      <td>0</td>\n",
       "    </tr>\n",
       "    <tr>\n",
       "      <th>4</th>\n",
       "      <td>my grand son give me check for i deposit it in...</td>\n",
       "      <td>my grand son give I check for I deposit it int...</td>\n",
       "      <td>son chase account fund bank account pay money ...</td>\n",
       "      <td>son chase account fund bank account pay money ...</td>\n",
       "      <td>0</td>\n",
       "    </tr>\n",
       "    <tr>\n",
       "      <th>6</th>\n",
       "      <td>with out notice j p morgan chase restricted my...</td>\n",
       "      <td>with out notice j p morgan chase restrict my a...</td>\n",
       "      <td>j p chase account debit card tuesday thursday ...</td>\n",
       "      <td>j p chase account debit card tuesday thursday ...</td>\n",
       "      <td>0</td>\n",
       "    </tr>\n",
       "    <tr>\n",
       "      <th>10</th>\n",
       "      <td>mishandling of this account by chase auto and</td>\n",
       "      <td>mishandle of this account by chase auto and</td>\n",
       "      <td>mishandle account auto</td>\n",
       "      <td>mishandle account auto</td>\n",
       "      <td>0</td>\n",
       "    </tr>\n",
       "    <tr>\n",
       "      <th>12</th>\n",
       "      <td>i opened an account with chase bank on and use...</td>\n",
       "      <td>I open an account with chase bank on and use a...</td>\n",
       "      <td>account bank code bonus term everything accoun...</td>\n",
       "      <td>account bank code bonus term everything accoun...</td>\n",
       "      <td>0</td>\n",
       "    </tr>\n",
       "    <tr>\n",
       "      <th>1</th>\n",
       "      <td>i upgraded my card in and was told by the agen...</td>\n",
       "      <td>I upgrade my card in and be tell by the agent ...</td>\n",
       "      <td>card agent upgrade date agent information orde...</td>\n",
       "      <td>card agent upgrade date agent information orde...</td>\n",
       "      <td>1</td>\n",
       "    </tr>\n",
       "    <tr>\n",
       "      <th>2</th>\n",
       "      <td>chase card was reported on however fraudulent ...</td>\n",
       "      <td>chase card be report on however fraudulent app...</td>\n",
       "      <td>card report application identity consent servi...</td>\n",
       "      <td>card report application identity consent servi...</td>\n",
       "      <td>1</td>\n",
       "    </tr>\n",
       "    <tr>\n",
       "      <th>3</th>\n",
       "      <td>on while trying to book a ticket i came across...</td>\n",
       "      <td>on while try to book a ticket I come across an...</td>\n",
       "      <td>try book ticket offer ticket card information ...</td>\n",
       "      <td>try book ticket offer ticket card information ...</td>\n",
       "      <td>1</td>\n",
       "    </tr>\n",
       "    <tr>\n",
       "      <th>5</th>\n",
       "      <td>can you please remove inquiry</td>\n",
       "      <td>can you please remove inquiry</td>\n",
       "      <td>inquiry</td>\n",
       "      <td>inquiry</td>\n",
       "      <td>1</td>\n",
       "    </tr>\n",
       "    <tr>\n",
       "      <th>9</th>\n",
       "      <td>i have a chase credit card which is incorrectl...</td>\n",
       "      <td>I have a chase credit card which be incorrectl...</td>\n",
       "      <td>chase credit card datum credit report company ...</td>\n",
       "      <td>chase credit card datum credit report company ...</td>\n",
       "      <td>1</td>\n",
       "    </tr>\n",
       "    <tr>\n",
       "      <th>33</th>\n",
       "      <td>i recently called to ask chase bank why they r...</td>\n",
       "      <td>I recently call to ask chase bank why they rep...</td>\n",
       "      <td>bank credit bureau day payment info bill balan...</td>\n",
       "      <td>bank credit bureau day payment info bill balan...</td>\n",
       "      <td>2</td>\n",
       "    </tr>\n",
       "    <tr>\n",
       "      <th>24</th>\n",
       "      <td>i made a purchase of on i made payments of on ...</td>\n",
       "      <td>I make a purchase of on I make payment of on a...</td>\n",
       "      <td>purchase payment payment closing date statemen...</td>\n",
       "      <td>purchase payment payment closing date statemen...</td>\n",
       "      <td>2</td>\n",
       "    </tr>\n",
       "    <tr>\n",
       "      <th>73</th>\n",
       "      <td>a double payment from my chase debt cart to ch...</td>\n",
       "      <td>a double payment from my chase debt cart to ch...</td>\n",
       "      <td>payment debt cart credit card post request day...</td>\n",
       "      <td>payment debt cart credit card post request day...</td>\n",
       "      <td>2</td>\n",
       "    </tr>\n",
       "    <tr>\n",
       "      <th>7</th>\n",
       "      <td>during the summer months i experience a declin...</td>\n",
       "      <td>during the summer month I experience a decline...</td>\n",
       "      <td>summer month income employment month payment e...</td>\n",
       "      <td>summer month income employment month payment e...</td>\n",
       "      <td>2</td>\n",
       "    </tr>\n",
       "    <tr>\n",
       "      <th>57</th>\n",
       "      <td>action taken by the company between the dates ...</td>\n",
       "      <td>action take by the company between the date of...</td>\n",
       "      <td>action company date group contact chase claim ...</td>\n",
       "      <td>action company date group contact chase claim ...</td>\n",
       "      <td>2</td>\n",
       "    </tr>\n",
       "    <tr>\n",
       "      <th>14</th>\n",
       "      <td>my chase amazon card was declined for a cateri...</td>\n",
       "      <td>my chase amazon card be decline for a catering...</td>\n",
       "      <td>chase card decline catering order place brothe...</td>\n",
       "      <td>chase card decline catering order place brothe...</td>\n",
       "      <td>3</td>\n",
       "    </tr>\n",
       "    <tr>\n",
       "      <th>16</th>\n",
       "      <td>a sofa love seat table and chairs and was nev...</td>\n",
       "      <td>a sofa love seat table and chair and be neve...</td>\n",
       "      <td>love seat table chair charge bank claim furnit...</td>\n",
       "      <td>love seat table chair charge bank claim furnit...</td>\n",
       "      <td>3</td>\n",
       "    </tr>\n",
       "    <tr>\n",
       "      <th>19</th>\n",
       "      <td>i made a purchase with on in the amount of i w...</td>\n",
       "      <td>I make a purchase with on in the amount of I b...</td>\n",
       "      <td>purchase amount transaction dispute case bank ...</td>\n",
       "      <td>purchase amount transaction dispute case bank ...</td>\n",
       "      <td>3</td>\n",
       "    </tr>\n",
       "    <tr>\n",
       "      <th>8</th>\n",
       "      <td>on i made a payment to an online retailer usin...</td>\n",
       "      <td>on I make a payment to an online retailer use ...</td>\n",
       "      <td>payment online retailer use pay chase website ...</td>\n",
       "      <td>payment online retailer use pay chase website ...</td>\n",
       "      <td>3</td>\n",
       "    </tr>\n",
       "    <tr>\n",
       "      <th>13</th>\n",
       "      <td>to whom it may concern chase bank charged wron...</td>\n",
       "      <td>to whom it may concern chase bank charge wrong...</td>\n",
       "      <td>concern bank charge fee balance fee balance tr...</td>\n",
       "      <td>concern bank charge fee balance fee balance tr...</td>\n",
       "      <td>3</td>\n",
       "    </tr>\n",
       "    <tr>\n",
       "      <th>23</th>\n",
       "      <td>i have been trying to do a loan modification w...</td>\n",
       "      <td>I have be try to do a loan modification with c...</td>\n",
       "      <td>loan modification chase runaround payment doc</td>\n",
       "      <td>loan modification chase runaround payment doc</td>\n",
       "      <td>4</td>\n",
       "    </tr>\n",
       "    <tr>\n",
       "      <th>30</th>\n",
       "      <td>i have wired through one of chase branches in ...</td>\n",
       "      <td>I have wire through one of chase branch in the...</td>\n",
       "      <td>chase branch reinstatement amount bank order f...</td>\n",
       "      <td>chase branch reinstatement amount bank order f...</td>\n",
       "      <td>4</td>\n",
       "    </tr>\n",
       "    <tr>\n",
       "      <th>32</th>\n",
       "      <td>i bought a new on from in i paid the loan in b...</td>\n",
       "      <td>I buy a new on from in I pay the loan in but c...</td>\n",
       "      <td>loan title time resolution time nothing state ...</td>\n",
       "      <td>loan title time resolution time nothing state ...</td>\n",
       "      <td>4</td>\n",
       "    </tr>\n",
       "    <tr>\n",
       "      <th>41</th>\n",
       "      <td>my name is i have missed a payment in and was ...</td>\n",
       "      <td>my name be I have miss a payment in and be day...</td>\n",
       "      <td>name payment day time loan modification loss m...</td>\n",
       "      <td>name payment day time loan modification loss m...</td>\n",
       "      <td>4</td>\n",
       "    </tr>\n",
       "    <tr>\n",
       "      <th>47</th>\n",
       "      <td>i am military member with the chase auto finan...</td>\n",
       "      <td>I be military member with the chase auto finan...</td>\n",
       "      <td>member auto finance gap insurance waiver cover...</td>\n",
       "      <td>member auto finance gap insurance waiver cover...</td>\n",
       "      <td>4</td>\n",
       "    </tr>\n",
       "  </tbody>\n",
       "</table>\n",
       "</div>"
      ],
      "text/plain": [
       "                              complaint_what_happened  \\\n",
       "0   good morning my name is and i appreciate it if...   \n",
       "4   my grand son give me check for i deposit it in...   \n",
       "6   with out notice j p morgan chase restricted my...   \n",
       "10     mishandling of this account by chase auto and    \n",
       "12  i opened an account with chase bank on and use...   \n",
       "1   i upgraded my card in and was told by the agen...   \n",
       "2   chase card was reported on however fraudulent ...   \n",
       "3   on while trying to book a ticket i came across...   \n",
       "5                       can you please remove inquiry   \n",
       "9   i have a chase credit card which is incorrectl...   \n",
       "33  i recently called to ask chase bank why they r...   \n",
       "24  i made a purchase of on i made payments of on ...   \n",
       "73  a double payment from my chase debt cart to ch...   \n",
       "7   during the summer months i experience a declin...   \n",
       "57  action taken by the company between the dates ...   \n",
       "14  my chase amazon card was declined for a cateri...   \n",
       "16   a sofa love seat table and chairs and was nev...   \n",
       "19  i made a purchase with on in the amount of i w...   \n",
       "8   on i made a payment to an online retailer usin...   \n",
       "13  to whom it may concern chase bank charged wron...   \n",
       "23  i have been trying to do a loan modification w...   \n",
       "30  i have wired through one of chase branches in ...   \n",
       "32  i bought a new on from in i paid the loan in b...   \n",
       "41  my name is i have missed a payment in and was ...   \n",
       "47  i am military member with the chase auto finan...   \n",
       "\n",
       "                                     lemma_complaints  \\\n",
       "0   good morning my name be and I appreciate it if...   \n",
       "4   my grand son give I check for I deposit it int...   \n",
       "6   with out notice j p morgan chase restrict my a...   \n",
       "10        mishandle of this account by chase auto and   \n",
       "12  I open an account with chase bank on and use a...   \n",
       "1   I upgrade my card in and be tell by the agent ...   \n",
       "2   chase card be report on however fraudulent app...   \n",
       "3   on while try to book a ticket I come across an...   \n",
       "5                       can you please remove inquiry   \n",
       "9   I have a chase credit card which be incorrectl...   \n",
       "33  I recently call to ask chase bank why they rep...   \n",
       "24  I make a purchase of on I make payment of on a...   \n",
       "73  a double payment from my chase debt cart to ch...   \n",
       "7   during the summer month I experience a decline...   \n",
       "57  action take by the company between the date of...   \n",
       "14  my chase amazon card be decline for a catering...   \n",
       "16    a sofa love seat table and chair and be neve...   \n",
       "19  I make a purchase with on in the amount of I b...   \n",
       "8   on I make a payment to an online retailer use ...   \n",
       "13  to whom it may concern chase bank charge wrong...   \n",
       "23  I have be try to do a loan modification with c...   \n",
       "30  I have wire through one of chase branch in the...   \n",
       "32  I buy a new on from in I pay the loan in but c...   \n",
       "41  my name be I have miss a payment in and be day...   \n",
       "47  I be military member with the chase auto finan...   \n",
       "\n",
       "                               POS_complaint_singular  \\\n",
       "0   morning name stop bank cardmember service ask ...   \n",
       "4   son chase account fund bank account pay money ...   \n",
       "6   j p chase account debit card tuesday thursday ...   \n",
       "10                             mishandle account auto   \n",
       "12  account bank code bonus term everything accoun...   \n",
       "1   card agent upgrade date agent information orde...   \n",
       "2   card report application identity consent servi...   \n",
       "3   try book ticket offer ticket card information ...   \n",
       "5                                             inquiry   \n",
       "9   chase credit card datum credit report company ...   \n",
       "33  bank credit bureau day payment info bill balan...   \n",
       "24  purchase payment payment closing date statemen...   \n",
       "73  payment debt cart credit card post request day...   \n",
       "7   summer month income employment month payment e...   \n",
       "57  action company date group contact chase claim ...   \n",
       "14  chase card decline catering order place brothe...   \n",
       "16  love seat table chair charge bank claim furnit...   \n",
       "19  purchase amount transaction dispute case bank ...   \n",
       "8   payment online retailer use pay chase website ...   \n",
       "13  concern bank charge fee balance fee balance tr...   \n",
       "23      loan modification chase runaround payment doc   \n",
       "30  chase branch reinstatement amount bank order f...   \n",
       "32  loan title time resolution time nothing state ...   \n",
       "41  name payment day time loan modification loss m...   \n",
       "47  member auto finance gap insurance waiver cover...   \n",
       "\n",
       "                                      Complaint_clean  Topic  \n",
       "0   morning name stop bank cardmember service ask ...      0  \n",
       "4   son chase account fund bank account pay money ...      0  \n",
       "6   j p chase account debit card tuesday thursday ...      0  \n",
       "10                             mishandle account auto      0  \n",
       "12  account bank code bonus term everything accoun...      0  \n",
       "1   card agent upgrade date agent information orde...      1  \n",
       "2   card report application identity consent servi...      1  \n",
       "3   try book ticket offer ticket card information ...      1  \n",
       "5                                             inquiry      1  \n",
       "9   chase credit card datum credit report company ...      1  \n",
       "33  bank credit bureau day payment info bill balan...      2  \n",
       "24  purchase payment payment closing date statemen...      2  \n",
       "73  payment debt cart credit card post request day...      2  \n",
       "7   summer month income employment month payment e...      2  \n",
       "57  action company date group contact chase claim ...      2  \n",
       "14  chase card decline catering order place brothe...      3  \n",
       "16  love seat table chair charge bank claim furnit...      3  \n",
       "19  purchase amount transaction dispute case bank ...      3  \n",
       "8   payment online retailer use pay chase website ...      3  \n",
       "13  concern bank charge fee balance fee balance tr...      3  \n",
       "23      loan modification chase runaround payment doc      4  \n",
       "30  chase branch reinstatement amount bank order f...      4  \n",
       "32  loan title time resolution time nothing state ...      4  \n",
       "41  name payment day time loan modification loss m...      4  \n",
       "47  member auto finance gap insurance waiver cover...      4  "
      ]
     },
     "execution_count": 44,
     "metadata": {},
     "output_type": "execute_result"
    }
   ],
   "source": [
    "#Print the first 5 Complaint for each of the Topics\n",
    "df_clean_top5=df_clean.groupby('Topic').head(5)\n",
    "df_clean_top5.sort_values('Topic')"
   ]
  },
  {
   "cell_type": "markdown",
   "metadata": {
    "id": "piyLxzj6v07j"
   },
   "source": [
    "#### After evaluating the mapping, if the topics assigned are correct then assign these names to the relevant topic:\n",
    "* Bank Account services\n",
    "* Credit card or prepaid card\n",
    "* Theft/Dispute Reporting\n",
    "* Mortgage/Loan\n",
    "* Others"
   ]
  },
  {
   "cell_type": "code",
   "execution_count": null,
   "metadata": {},
   "outputs": [],
   "source": [
    "#df_clean.drop(['Topic'], inplace=True, axis=1)"
   ]
  },
  {
   "cell_type": "code",
   "execution_count": 45,
   "metadata": {
    "id": "TWpwDG4RJrGG"
   },
   "outputs": [
    {
     "name": "stderr",
     "output_type": "stream",
     "text": [
      "C:\\Users\\SHAOWN\\anaconda3\\lib\\site-packages\\pandas\\core\\indexing.py:1773: SettingWithCopyWarning:\n",
      "\n",
      "\n",
      "A value is trying to be set on a copy of a slice from a DataFrame.\n",
      "Try using .loc[row_indexer,col_indexer] = value instead\n",
      "\n",
      "See the caveats in the documentation: https://pandas.pydata.org/pandas-docs/stable/user_guide/indexing.html#returning-a-view-versus-a-copy\n",
      "\n"
     ]
    }
   ],
   "source": [
    "#Create the dictionary of Topic names and Topics\n",
    "\n",
    "df_clean.replace({'Topic':{0:\"Bank Account services\",\n",
    "               1:\"Credit card or prepaid card\", \n",
    "               2:\"Others\",\n",
    "               3:\"Theft/Dispute Reporting\",\n",
    "               4:\"Mortgage/Loan\"}},inplace=True)\n",
    "#Replace Topics with Topic Names\n",
    "#df_clean['Topic'] = df_clean['Topic'].map(Topic_names)"
   ]
  },
  {
   "cell_type": "code",
   "execution_count": 46,
   "metadata": {
    "id": "-2ULY5K6JrGG"
   },
   "outputs": [
    {
     "data": {
      "text/html": [
       "<div>\n",
       "<style scoped>\n",
       "    .dataframe tbody tr th:only-of-type {\n",
       "        vertical-align: middle;\n",
       "    }\n",
       "\n",
       "    .dataframe tbody tr th {\n",
       "        vertical-align: top;\n",
       "    }\n",
       "\n",
       "    .dataframe thead th {\n",
       "        text-align: right;\n",
       "    }\n",
       "</style>\n",
       "<table border=\"1\" class=\"dataframe\">\n",
       "  <thead>\n",
       "    <tr style=\"text-align: right;\">\n",
       "      <th></th>\n",
       "      <th>complaint_what_happened</th>\n",
       "      <th>lemma_complaints</th>\n",
       "      <th>POS_complaint_singular</th>\n",
       "      <th>Complaint_clean</th>\n",
       "      <th>Topic</th>\n",
       "    </tr>\n",
       "  </thead>\n",
       "  <tbody>\n",
       "    <tr>\n",
       "      <th>0</th>\n",
       "      <td>good morning my name is and i appreciate it if...</td>\n",
       "      <td>good morning my name be and I appreciate it if...</td>\n",
       "      <td>morning name stop bank cardmember service ask ...</td>\n",
       "      <td>morning name stop bank cardmember service ask ...</td>\n",
       "      <td>Bank Account services</td>\n",
       "    </tr>\n",
       "    <tr>\n",
       "      <th>1</th>\n",
       "      <td>i upgraded my card in and was told by the agen...</td>\n",
       "      <td>I upgrade my card in and be tell by the agent ...</td>\n",
       "      <td>card agent upgrade date agent information orde...</td>\n",
       "      <td>card agent upgrade date agent information orde...</td>\n",
       "      <td>Credit card or prepaid card</td>\n",
       "    </tr>\n",
       "    <tr>\n",
       "      <th>2</th>\n",
       "      <td>chase card was reported on however fraudulent ...</td>\n",
       "      <td>chase card be report on however fraudulent app...</td>\n",
       "      <td>card report application identity consent servi...</td>\n",
       "      <td>card report application identity consent servi...</td>\n",
       "      <td>Credit card or prepaid card</td>\n",
       "    </tr>\n",
       "    <tr>\n",
       "      <th>3</th>\n",
       "      <td>on while trying to book a ticket i came across...</td>\n",
       "      <td>on while try to book a ticket I come across an...</td>\n",
       "      <td>try book ticket offer ticket card information ...</td>\n",
       "      <td>try book ticket offer ticket card information ...</td>\n",
       "      <td>Credit card or prepaid card</td>\n",
       "    </tr>\n",
       "    <tr>\n",
       "      <th>4</th>\n",
       "      <td>my grand son give me check for i deposit it in...</td>\n",
       "      <td>my grand son give I check for I deposit it int...</td>\n",
       "      <td>son chase account fund bank account pay money ...</td>\n",
       "      <td>son chase account fund bank account pay money ...</td>\n",
       "      <td>Bank Account services</td>\n",
       "    </tr>\n",
       "    <tr>\n",
       "      <th>...</th>\n",
       "      <td>...</td>\n",
       "      <td>...</td>\n",
       "      <td>...</td>\n",
       "      <td>...</td>\n",
       "      <td>...</td>\n",
       "    </tr>\n",
       "    <tr>\n",
       "      <th>21067</th>\n",
       "      <td>after being a chase card customer for well ove...</td>\n",
       "      <td>after be a chase card customer for well over a...</td>\n",
       "      <td>card customer decade solicitation credit card ...</td>\n",
       "      <td>card customer decade solicitation credit card ...</td>\n",
       "      <td>Credit card or prepaid card</td>\n",
       "    </tr>\n",
       "    <tr>\n",
       "      <th>21068</th>\n",
       "      <td>on wednesday i called chas my visa credit card...</td>\n",
       "      <td>on wednesday I call cha my visa credit card pr...</td>\n",
       "      <td>wednesday credit card provider claim purchase ...</td>\n",
       "      <td>wednesday credit card provider claim purchase ...</td>\n",
       "      <td>Theft/Dispute Reporting</td>\n",
       "    </tr>\n",
       "    <tr>\n",
       "      <th>21069</th>\n",
       "      <td>i am not familiar with pay and did not underst...</td>\n",
       "      <td>I be not familiar with pay and do not understa...</td>\n",
       "      <td>pay risk provide consumer bank app chase year ...</td>\n",
       "      <td>pay risk provide consumer bank app chase year ...</td>\n",
       "      <td>Theft/Dispute Reporting</td>\n",
       "    </tr>\n",
       "    <tr>\n",
       "      <th>21070</th>\n",
       "      <td>i have had flawless credit for yrs i ve had ch...</td>\n",
       "      <td>I have have flawless credit for yrs I ve have ...</td>\n",
       "      <td>credit yrs credit card chase freedom problem b...</td>\n",
       "      <td>credit yrs credit card chase freedom problem b...</td>\n",
       "      <td>Others</td>\n",
       "    </tr>\n",
       "    <tr>\n",
       "      <th>21071</th>\n",
       "      <td>roughly years ago i closed out my accounts wit...</td>\n",
       "      <td>roughly year ago I close out my account with j...</td>\n",
       "      <td>year account jp bank order line credit account...</td>\n",
       "      <td>year account jp bank order line credit account...</td>\n",
       "      <td>Others</td>\n",
       "    </tr>\n",
       "  </tbody>\n",
       "</table>\n",
       "<p>21072 rows × 5 columns</p>\n",
       "</div>"
      ],
      "text/plain": [
       "                                 complaint_what_happened  \\\n",
       "0      good morning my name is and i appreciate it if...   \n",
       "1      i upgraded my card in and was told by the agen...   \n",
       "2      chase card was reported on however fraudulent ...   \n",
       "3      on while trying to book a ticket i came across...   \n",
       "4      my grand son give me check for i deposit it in...   \n",
       "...                                                  ...   \n",
       "21067  after being a chase card customer for well ove...   \n",
       "21068  on wednesday i called chas my visa credit card...   \n",
       "21069  i am not familiar with pay and did not underst...   \n",
       "21070  i have had flawless credit for yrs i ve had ch...   \n",
       "21071  roughly years ago i closed out my accounts wit...   \n",
       "\n",
       "                                        lemma_complaints  \\\n",
       "0      good morning my name be and I appreciate it if...   \n",
       "1      I upgrade my card in and be tell by the agent ...   \n",
       "2      chase card be report on however fraudulent app...   \n",
       "3      on while try to book a ticket I come across an...   \n",
       "4      my grand son give I check for I deposit it int...   \n",
       "...                                                  ...   \n",
       "21067  after be a chase card customer for well over a...   \n",
       "21068  on wednesday I call cha my visa credit card pr...   \n",
       "21069  I be not familiar with pay and do not understa...   \n",
       "21070  I have have flawless credit for yrs I ve have ...   \n",
       "21071  roughly year ago I close out my account with j...   \n",
       "\n",
       "                                  POS_complaint_singular  \\\n",
       "0      morning name stop bank cardmember service ask ...   \n",
       "1      card agent upgrade date agent information orde...   \n",
       "2      card report application identity consent servi...   \n",
       "3      try book ticket offer ticket card information ...   \n",
       "4      son chase account fund bank account pay money ...   \n",
       "...                                                  ...   \n",
       "21067  card customer decade solicitation credit card ...   \n",
       "21068  wednesday credit card provider claim purchase ...   \n",
       "21069  pay risk provide consumer bank app chase year ...   \n",
       "21070  credit yrs credit card chase freedom problem b...   \n",
       "21071  year account jp bank order line credit account...   \n",
       "\n",
       "                                         Complaint_clean  \\\n",
       "0      morning name stop bank cardmember service ask ...   \n",
       "1      card agent upgrade date agent information orde...   \n",
       "2      card report application identity consent servi...   \n",
       "3      try book ticket offer ticket card information ...   \n",
       "4      son chase account fund bank account pay money ...   \n",
       "...                                                  ...   \n",
       "21067  card customer decade solicitation credit card ...   \n",
       "21068  wednesday credit card provider claim purchase ...   \n",
       "21069  pay risk provide consumer bank app chase year ...   \n",
       "21070  credit yrs credit card chase freedom problem b...   \n",
       "21071  year account jp bank order line credit account...   \n",
       "\n",
       "                             Topic  \n",
       "0            Bank Account services  \n",
       "1      Credit card or prepaid card  \n",
       "2      Credit card or prepaid card  \n",
       "3      Credit card or prepaid card  \n",
       "4            Bank Account services  \n",
       "...                            ...  \n",
       "21067  Credit card or prepaid card  \n",
       "21068      Theft/Dispute Reporting  \n",
       "21069      Theft/Dispute Reporting  \n",
       "21070                       Others  \n",
       "21071                       Others  \n",
       "\n",
       "[21072 rows x 5 columns]"
      ]
     },
     "execution_count": 46,
     "metadata": {},
     "output_type": "execute_result"
    }
   ],
   "source": [
    "df_clean"
   ]
  },
  {
   "cell_type": "code",
   "execution_count": 47,
   "metadata": {},
   "outputs": [
    {
     "data": {
      "text/plain": [
       "(21072, 5)"
      ]
     },
     "execution_count": 47,
     "metadata": {},
     "output_type": "execute_result"
    }
   ],
   "source": [
    "df_clean.shape"
   ]
  },
  {
   "cell_type": "markdown",
   "metadata": {
    "id": "7Mu0QBOcJrGH"
   },
   "source": [
    "## Supervised model to predict any new complaints to the relevant Topics.\n",
    "\n",
    "You have now build the model to create the topics for each complaints.Now in the below section you will use them to classify any new complaints.\n",
    "\n",
    "Since you will be using supervised learning technique we have to convert the topic names to numbers(numpy arrays only understand numbers)"
   ]
  },
  {
   "cell_type": "code",
   "execution_count": 50,
   "metadata": {
    "id": "_U8J3J8wJrGH"
   },
   "outputs": [
    {
     "name": "stderr",
     "output_type": "stream",
     "text": [
      "C:\\Users\\SHAOWN\\anaconda3\\lib\\site-packages\\pandas\\core\\indexing.py:1951: SettingWithCopyWarning:\n",
      "\n",
      "\n",
      "A value is trying to be set on a copy of a slice from a DataFrame.\n",
      "Try using .loc[row_indexer,col_indexer] = value instead\n",
      "\n",
      "See the caveats in the documentation: https://pandas.pydata.org/pandas-docs/stable/user_guide/indexing.html#returning-a-view-versus-a-copy\n",
      "\n"
     ]
    },
    {
     "data": {
      "text/html": [
       "<div>\n",
       "<style scoped>\n",
       "    .dataframe tbody tr th:only-of-type {\n",
       "        vertical-align: middle;\n",
       "    }\n",
       "\n",
       "    .dataframe tbody tr th {\n",
       "        vertical-align: top;\n",
       "    }\n",
       "\n",
       "    .dataframe thead th {\n",
       "        text-align: right;\n",
       "    }\n",
       "</style>\n",
       "<table border=\"1\" class=\"dataframe\">\n",
       "  <thead>\n",
       "    <tr style=\"text-align: right;\">\n",
       "      <th></th>\n",
       "      <th>complaint_what_happened</th>\n",
       "      <th>lemma_complaints</th>\n",
       "      <th>POS_complaint_singular</th>\n",
       "      <th>Complaint_clean</th>\n",
       "      <th>Topic</th>\n",
       "    </tr>\n",
       "  </thead>\n",
       "  <tbody>\n",
       "    <tr>\n",
       "      <th>0</th>\n",
       "      <td>good morning my name is and i appreciate it if...</td>\n",
       "      <td>good morning my name be and I appreciate it if...</td>\n",
       "      <td>morning name stop bank cardmember service ask ...</td>\n",
       "      <td>morning name stop bank cardmember service ask ...</td>\n",
       "      <td>0</td>\n",
       "    </tr>\n",
       "    <tr>\n",
       "      <th>1</th>\n",
       "      <td>i upgraded my card in and was told by the agen...</td>\n",
       "      <td>I upgrade my card in and be tell by the agent ...</td>\n",
       "      <td>card agent upgrade date agent information orde...</td>\n",
       "      <td>card agent upgrade date agent information orde...</td>\n",
       "      <td>1</td>\n",
       "    </tr>\n",
       "    <tr>\n",
       "      <th>2</th>\n",
       "      <td>chase card was reported on however fraudulent ...</td>\n",
       "      <td>chase card be report on however fraudulent app...</td>\n",
       "      <td>card report application identity consent servi...</td>\n",
       "      <td>card report application identity consent servi...</td>\n",
       "      <td>1</td>\n",
       "    </tr>\n",
       "    <tr>\n",
       "      <th>3</th>\n",
       "      <td>on while trying to book a ticket i came across...</td>\n",
       "      <td>on while try to book a ticket I come across an...</td>\n",
       "      <td>try book ticket offer ticket card information ...</td>\n",
       "      <td>try book ticket offer ticket card information ...</td>\n",
       "      <td>1</td>\n",
       "    </tr>\n",
       "    <tr>\n",
       "      <th>4</th>\n",
       "      <td>my grand son give me check for i deposit it in...</td>\n",
       "      <td>my grand son give I check for I deposit it int...</td>\n",
       "      <td>son chase account fund bank account pay money ...</td>\n",
       "      <td>son chase account fund bank account pay money ...</td>\n",
       "      <td>0</td>\n",
       "    </tr>\n",
       "  </tbody>\n",
       "</table>\n",
       "</div>"
      ],
      "text/plain": [
       "                             complaint_what_happened  \\\n",
       "0  good morning my name is and i appreciate it if...   \n",
       "1  i upgraded my card in and was told by the agen...   \n",
       "2  chase card was reported on however fraudulent ...   \n",
       "3  on while trying to book a ticket i came across...   \n",
       "4  my grand son give me check for i deposit it in...   \n",
       "\n",
       "                                    lemma_complaints  \\\n",
       "0  good morning my name be and I appreciate it if...   \n",
       "1  I upgrade my card in and be tell by the agent ...   \n",
       "2  chase card be report on however fraudulent app...   \n",
       "3  on while try to book a ticket I come across an...   \n",
       "4  my grand son give I check for I deposit it int...   \n",
       "\n",
       "                              POS_complaint_singular  \\\n",
       "0  morning name stop bank cardmember service ask ...   \n",
       "1  card agent upgrade date agent information orde...   \n",
       "2  card report application identity consent servi...   \n",
       "3  try book ticket offer ticket card information ...   \n",
       "4  son chase account fund bank account pay money ...   \n",
       "\n",
       "                                     Complaint_clean  Topic  \n",
       "0  morning name stop bank cardmember service ask ...      0  \n",
       "1  card agent upgrade date agent information orde...      1  \n",
       "2  card report application identity consent servi...      1  \n",
       "3  try book ticket offer ticket card information ...      1  \n",
       "4  son chase account fund bank account pay money ...      0  "
      ]
     },
     "execution_count": 50,
     "metadata": {},
     "output_type": "execute_result"
    }
   ],
   "source": [
    "#Create the dictionary again of Topic names and Topics\n",
    "\n",
    "df_clean.replace({'Topic':{\"Bank Account services\":0,\n",
    "               \"Credit card or prepaid card\":1,\n",
    "               \"Others\":2,\n",
    "               \"Theft/Dispute Reporting\":3,\n",
    "               \"Mortgage/Loan\":4}},inplace=True)\n",
    "\n",
    "df_clean.head()"
   ]
  },
  {
   "cell_type": "code",
   "execution_count": 51,
   "metadata": {
    "id": "BWIgJUkQJrGH"
   },
   "outputs": [
    {
     "data": {
      "text/plain": [
       "(21072, 5)"
      ]
     },
     "execution_count": 51,
     "metadata": {},
     "output_type": "execute_result"
    }
   ],
   "source": [
    "df_clean.shape"
   ]
  },
  {
   "cell_type": "code",
   "execution_count": 52,
   "metadata": {
    "id": "Xx-FrbkWJrGH"
   },
   "outputs": [],
   "source": [
    "#Keep the columns\"complaint_what_happened\" & \"Topic\" only in the new dataframe --> training_data\n",
    "training_data=df_clean[['complaint_what_happened','Topic']]"
   ]
  },
  {
   "cell_type": "code",
   "execution_count": 53,
   "metadata": {
    "id": "lVg2pa12JrGI"
   },
   "outputs": [
    {
     "data": {
      "text/plain": [
       "(21072, 2)"
      ]
     },
     "execution_count": 53,
     "metadata": {},
     "output_type": "execute_result"
    }
   ],
   "source": [
    "training_data.shape"
   ]
  },
  {
   "cell_type": "code",
   "execution_count": 54,
   "metadata": {},
   "outputs": [
    {
     "data": {
      "text/html": [
       "<div>\n",
       "<style scoped>\n",
       "    .dataframe tbody tr th:only-of-type {\n",
       "        vertical-align: middle;\n",
       "    }\n",
       "\n",
       "    .dataframe tbody tr th {\n",
       "        vertical-align: top;\n",
       "    }\n",
       "\n",
       "    .dataframe thead th {\n",
       "        text-align: right;\n",
       "    }\n",
       "</style>\n",
       "<table border=\"1\" class=\"dataframe\">\n",
       "  <thead>\n",
       "    <tr style=\"text-align: right;\">\n",
       "      <th></th>\n",
       "      <th>complaint_what_happened</th>\n",
       "      <th>Topic</th>\n",
       "    </tr>\n",
       "  </thead>\n",
       "  <tbody>\n",
       "    <tr>\n",
       "      <th>0</th>\n",
       "      <td>good morning my name is and i appreciate it if...</td>\n",
       "      <td>0</td>\n",
       "    </tr>\n",
       "    <tr>\n",
       "      <th>1</th>\n",
       "      <td>i upgraded my card in and was told by the agen...</td>\n",
       "      <td>1</td>\n",
       "    </tr>\n",
       "    <tr>\n",
       "      <th>2</th>\n",
       "      <td>chase card was reported on however fraudulent ...</td>\n",
       "      <td>1</td>\n",
       "    </tr>\n",
       "    <tr>\n",
       "      <th>3</th>\n",
       "      <td>on while trying to book a ticket i came across...</td>\n",
       "      <td>1</td>\n",
       "    </tr>\n",
       "    <tr>\n",
       "      <th>4</th>\n",
       "      <td>my grand son give me check for i deposit it in...</td>\n",
       "      <td>0</td>\n",
       "    </tr>\n",
       "  </tbody>\n",
       "</table>\n",
       "</div>"
      ],
      "text/plain": [
       "                             complaint_what_happened  Topic\n",
       "0  good morning my name is and i appreciate it if...      0\n",
       "1  i upgraded my card in and was told by the agen...      1\n",
       "2  chase card was reported on however fraudulent ...      1\n",
       "3  on while trying to book a ticket i came across...      1\n",
       "4  my grand son give me check for i deposit it in...      0"
      ]
     },
     "execution_count": 54,
     "metadata": {},
     "output_type": "execute_result"
    }
   ],
   "source": [
    "training_data.head()"
   ]
  },
  {
   "cell_type": "markdown",
   "metadata": {
    "id": "280Vbqk-7a8M"
   },
   "source": [
    "####Apply the supervised models on the training data created. In this process, you have to do the following:\n",
    "* Create the vector counts using Count Vectoriser\n",
    "* Transform the word vecotr to tf-idf\n",
    "* Create the train & test data using the train_test_split on the tf-idf & topics\n"
   ]
  },
  {
   "cell_type": "code",
   "execution_count": 55,
   "metadata": {
    "id": "oUlQpgkzJrGI"
   },
   "outputs": [],
   "source": [
    "\n",
    "#Write your code to get the Vector count\n",
    "count_vector=CountVectorizer()\n",
    "\n",
    "#Write your code here to transform the word vector to tf-idf\n",
    "X_train_count=count_vector.fit_transform(training_data['complaint_what_happened'])"
   ]
  },
  {
   "cell_type": "code",
   "execution_count": 135,
   "metadata": {},
   "outputs": [
    {
     "name": "stdout",
     "output_type": "stream",
     "text": [
      "Collecting dill\n",
      "  Downloading dill-0.3.4-py2.py3-none-any.whl (86 kB)\n",
      "     ---------------------------------------- 86.9/86.9 KB 1.2 MB/s eta 0:00:00\n",
      "Installing collected packages: dill\n",
      "Successfully installed dill-0.3.4\n"
     ]
    }
   ],
   "source": [
    "!pip install dill"
   ]
  },
  {
   "cell_type": "code",
   "execution_count": 136,
   "metadata": {},
   "outputs": [],
   "source": [
    "import dill as pickle\n",
    "\n",
    "pickle.dump(count_vector.vocabulary_, open(\"count_vector.pkl\",\"wb\"))"
   ]
  },
  {
   "cell_type": "code",
   "execution_count": null,
   "metadata": {},
   "outputs": [],
   "source": []
  },
  {
   "cell_type": "code",
   "execution_count": 137,
   "metadata": {},
   "outputs": [],
   "source": [
    "tfidf_transform= TfidfTransformer()\n",
    "X_train_tfidf = tfidf_transform.fit_transform(X_train_count)"
   ]
  },
  {
   "cell_type": "code",
   "execution_count": 138,
   "metadata": {},
   "outputs": [],
   "source": [
    "pickle.dump(tfidf_transform, open(\"tfidf.pkl\",\"wb\"))"
   ]
  },
  {
   "cell_type": "code",
   "execution_count": 62,
   "metadata": {},
   "outputs": [],
   "source": [
    "from sklearn.model_selection import train_test_split, GridSearchCV, RandomizedSearchCV\n",
    "from sklearn.metrics import confusion_matrix, f1_score, classification_report"
   ]
  },
  {
   "cell_type": "code",
   "execution_count": 63,
   "metadata": {},
   "outputs": [
    {
     "name": "stdout",
     "output_type": "stream",
     "text": [
      "X_train Shape: (15804, 27428)\n",
      "y_train Shape: (15804,)\n",
      "X_test Shape: (5268, 27428)\n",
      "y_test Shape: (5268,)\n"
     ]
    }
   ],
   "source": [
    "# Train-Test split\n",
    "X_train, X_test, y_train, y_test = train_test_split(X_train_tfidf, training_data.Topic, test_size=0.25, random_state=42)\n",
    "\n",
    "print(f\"X_train Shape: {X_train.shape}\")\n",
    "print(f\"y_train Shape: {y_train.shape}\")\n",
    "print(f\"X_test Shape: {X_test.shape}\")\n",
    "print(f\"y_test Shape: {y_test.shape}\")"
   ]
  },
  {
   "cell_type": "code",
   "execution_count": 139,
   "metadata": {},
   "outputs": [],
   "source": [
    "def model_evaluation(y_test, y_pred, model_name):\n",
    "    \n",
    "    # print classification report of classifier\n",
    "    print(f\"CLASSIFICATION REPORT for {model_name}\\n\")\n",
    "    print(classification_report(y_test, y_pred, target_names=[\"Bank Account services\", \"Credit card or prepaid card\", \"Others\", \"Theft/Dispute Reporting\",\n",
    "\"Mortgage/Loan\"]))\n",
    "    \n",
    "    # plot confusion matrix of the classifier\n",
    "    plt.figure(figsize=(10,7))\n",
    "    plt.title(f\"CONFUSION MATRIX for {model_name}\\n\")\n",
    "    matrix = confusion_matrix(y_test, y_pred)\n",
    "    sns.heatmap(matrix, annot=True, cbar=None, cmap=\"Blues\", fmt='d', xticklabels=[\"Bank Account services\", \"Credit card or prepaid card\", \"Others\", \"Theft/Dispute Reporting\",\n",
    "\"Mortgage/Loan\"], yticklabels=[\"Bank Account services\", \"Credit card or prepaid card\", \"Others\", \"Theft/Dispute Reporting\",\n",
    "\"Mortgage/Loan\"])\n",
    "    plt.show()\n",
    "    \n",
    "    return"
   ]
  },
  {
   "cell_type": "markdown",
   "metadata": {
    "id": "uMU3vj6w-wqL"
   },
   "source": [
    "You have to try atleast 3 models on the train & test data from these options:\n",
    "* Logistic regression\n",
    "* Decision Tree\n",
    "* Random Forest\n",
    "* Naive Bayes (optional)\n",
    "\n",
    "**Using the required evaluation metrics judge the tried models and select the ones performing the best**"
   ]
  },
  {
   "cell_type": "markdown",
   "metadata": {},
   "source": [
    "## Model:1 - Logistic Regression"
   ]
  },
  {
   "cell_type": "code",
   "execution_count": 65,
   "metadata": {
    "id": "udLHpPsZJrGI"
   },
   "outputs": [],
   "source": [
    "# Write your code here to build any 3 models and evaluate them using the required metrics\n",
    "from sklearn.linear_model import LogisticRegression\n",
    "\n",
    "\n"
   ]
  },
  {
   "cell_type": "code",
   "execution_count": 66,
   "metadata": {
    "id": "N2OznsObJrGP"
   },
   "outputs": [
    {
     "name": "stderr",
     "output_type": "stream",
     "text": [
      "C:\\Users\\SHAOWN\\anaconda3\\lib\\site-packages\\sklearn\\linear_model\\_logistic.py:763: ConvergenceWarning:\n",
      "\n",
      "lbfgs failed to converge (status=1):\n",
      "STOP: TOTAL NO. of ITERATIONS REACHED LIMIT.\n",
      "\n",
      "Increase the number of iterations (max_iter) or scale the data as shown in:\n",
      "    https://scikit-learn.org/stable/modules/preprocessing.html\n",
      "Please also refer to the documentation for alternative solver options:\n",
      "    https://scikit-learn.org/stable/modules/linear_model.html#logistic-regression\n",
      "\n"
     ]
    }
   ],
   "source": [
    "model_name = 'LOGISTIC REGRESSION'\n",
    "lr = LogisticRegression() \n",
    "lr.fit(X_train, y_train)\n",
    "y_pred_lr = lr.predict(X_test)"
   ]
  },
  {
   "cell_type": "code",
   "execution_count": 67,
   "metadata": {},
   "outputs": [
    {
     "name": "stdout",
     "output_type": "stream",
     "text": [
      "Fitting 5 folds for each of 60 candidates, totalling 300 fits\n"
     ]
    },
    {
     "name": "stderr",
     "output_type": "stream",
     "text": [
      "C:\\Users\\SHAOWN\\anaconda3\\lib\\site-packages\\sklearn\\model_selection\\_search.py:922: UserWarning:\n",
      "\n",
      "One or more of the test scores are non-finite: [       nan        nan 0.09872761        nan 0.09386852 0.2953657\n",
      " 0.29538509 0.30201047 0.29527346 0.29522186        nan        nan\n",
      " 0.59889622        nan 0.61713949 0.70500776 0.70500776 0.68548333\n",
      " 0.70500776 0.70520475        nan        nan 0.88182392        nan\n",
      " 0.89185952 0.87914167 0.87914167 0.86857241 0.87920293 0.87921875\n",
      "        nan        nan 0.93724434        nan 0.941011   0.91785138\n",
      " 0.91785037 0.9129186  0.91785138 0.91791431        nan        nan\n",
      " 0.91862218        nan 0.93573104 0.91945566 0.91971899 0.91462027\n",
      " 0.91952227 0.91920405        nan        nan 0.90741712        nan\n",
      " 0.92547549 0.91512545 0.92107743 0.90552231 0.91531756 0.91691597]\n",
      "\n"
     ]
    },
    {
     "name": "stdout",
     "output_type": "stream",
     "text": [
      "{'C': 1, 'penalty': 'l1', 'solver': 'saga'}\n"
     ]
    }
   ],
   "source": [
    "# Hyperparameter tuning for best result\n",
    "param_lr = {\n",
    "    'penalty': ['l1', 'l2'],\n",
    "    'C': [0.001,0.01,0.1,1,10,100],\n",
    "    'solver':['newton-cg', 'lbfgs', 'liblinear', 'sag', 'saga']\n",
    "}\n",
    "\n",
    "grid_lr = GridSearchCV(estimator=lr, \n",
    "                       param_grid=param_lr,\n",
    "                       verbose=1,\n",
    "                       scoring='f1_weighted',\n",
    "                       n_jobs=-1,\n",
    "                       cv=5)\n",
    "grid_lr.fit(X_train, y_train)\n",
    "print(grid_lr.best_params_)"
   ]
  },
  {
   "cell_type": "code",
   "execution_count": 68,
   "metadata": {},
   "outputs": [],
   "source": [
    "lr_tuned = LogisticRegression(C=1, \n",
    "                                  penalty='l1', \n",
    "                                  solver='saga')\n",
    "\n",
    "lr_tuned.fit(X_train, y_train)\n",
    "y_pred_lr_tuned = lr_tuned.predict(X_test)"
   ]
  },
  {
   "cell_type": "code",
   "execution_count": 69,
   "metadata": {},
   "outputs": [
    {
     "data": {
      "text/plain": [
       "0.9465840896697527"
      ]
     },
     "execution_count": 69,
     "metadata": {},
     "output_type": "execute_result"
    }
   ],
   "source": [
    "f1_lr = f1_score(y_test, y_pred_lr_tuned, average=\"weighted\")\n",
    "f1_lr"
   ]
  },
  {
   "cell_type": "code",
   "execution_count": 140,
   "metadata": {},
   "outputs": [
    {
     "name": "stdout",
     "output_type": "stream",
     "text": [
      "CLASSIFICATION REPORT for Naive Bayes\n",
      "\n",
      "                             precision    recall  f1-score   support\n",
      "\n",
      "      Bank Account services       0.95      0.96      0.95      1318\n",
      "Credit card or prepaid card       0.95      0.95      0.95      1295\n",
      "                     Others       0.95      0.96      0.95       558\n",
      "    Theft/Dispute Reporting       0.94      0.92      0.93      1181\n",
      "              Mortgage/Loan       0.95      0.95      0.95       916\n",
      "\n",
      "                   accuracy                           0.95      5268\n",
      "                  macro avg       0.95      0.95      0.95      5268\n",
      "               weighted avg       0.95      0.95      0.95      5268\n",
      "\n"
     ]
    },
    {
     "data": {
      "image/png": "[encoded data removed]",
      "text/plain": [
       "<Figure size 720x504 with 1 Axes>"
      ]
     },
     "metadata": {
      "needs_background": "light"
     },
     "output_type": "display_data"
    }
   ],
   "source": [
    "model_evaluation(y_test, y_pred_lr_tuned, model_name)"
   ]
  },
  {
   "cell_type": "code",
   "execution_count": 72,
   "metadata": {},
   "outputs": [
    {
     "data": {
      "text/html": [
       "<div>\n",
       "<style scoped>\n",
       "    .dataframe tbody tr th:only-of-type {\n",
       "        vertical-align: middle;\n",
       "    }\n",
       "\n",
       "    .dataframe tbody tr th {\n",
       "        vertical-align: top;\n",
       "    }\n",
       "\n",
       "    .dataframe thead th {\n",
       "        text-align: right;\n",
       "    }\n",
       "</style>\n",
       "<table border=\"1\" class=\"dataframe\">\n",
       "  <thead>\n",
       "    <tr style=\"text-align: right;\">\n",
       "      <th></th>\n",
       "      <th>Model</th>\n",
       "      <th>F1 Score</th>\n",
       "    </tr>\n",
       "  </thead>\n",
       "  <tbody>\n",
       "    <tr>\n",
       "      <th>0</th>\n",
       "      <td>Logistic Regression</td>\n",
       "      <td>0.95</td>\n",
       "    </tr>\n",
       "  </tbody>\n",
       "</table>\n",
       "</div>"
      ],
      "text/plain": [
       "                 Model  F1 Score\n",
       "0  Logistic Regression      0.95"
      ]
     },
     "execution_count": 72,
     "metadata": {},
     "output_type": "execute_result"
    }
   ],
   "source": [
    "f1_summary_table = pd.DataFrame([{'Model': 'Logistic Regression','F1 Score': round(f1_lr, 2)}])\n",
    "f1_summary_table"
   ]
  },
  {
   "cell_type": "markdown",
   "metadata": {},
   "source": [
    "## Model:2 - Decision Tree"
   ]
  },
  {
   "cell_type": "code",
   "execution_count": 73,
   "metadata": {},
   "outputs": [],
   "source": [
    "from sklearn.tree import DecisionTreeClassifier"
   ]
  },
  {
   "cell_type": "code",
   "execution_count": 74,
   "metadata": {},
   "outputs": [],
   "source": [
    "model_name = 'Decision Tree'\n",
    "dt = DecisionTreeClassifier()\n",
    "dt.fit(X_train, y_train)\n",
    "y_pred_dt =dt.predict(X_test)"
   ]
  },
  {
   "cell_type": "code",
   "execution_count": 75,
   "metadata": {},
   "outputs": [
    {
     "name": "stdout",
     "output_type": "stream",
     "text": [
      "Fitting 5 folds for each of 72 candidates, totalling 360 fits\n",
      "{'criterion': 'gini', 'max_depth': 25, 'min_samples_leaf': 10}\n"
     ]
    }
   ],
   "source": [
    "# Hyperparameter tuning for best result\n",
    "param_dt = {\n",
    "    'criterion': ['gini', 'entropy'],\n",
    "    'max_depth' : [5, 10, 15, 20, 25, 30],\n",
    "    'min_samples_leaf':[1,5,10,15, 20, 25],\n",
    "    \n",
    "}\n",
    "\n",
    "grid_dt = GridSearchCV(estimator=dt, \n",
    "                       param_grid=param_dt,\n",
    "                       verbose=1,\n",
    "                       scoring='f1_weighted',\n",
    "                       n_jobs=-1,\n",
    "                       cv=5)\n",
    "grid_dt.fit(X_train, y_train)\n",
    "print(grid_dt.best_params_)"
   ]
  },
  {
   "cell_type": "code",
   "execution_count": 76,
   "metadata": {},
   "outputs": [],
   "source": [
    "# Creating model with best hyperparameter\n",
    "dt_tuned = DecisionTreeClassifier(criterion='gini', \n",
    "                                      max_depth=25, \n",
    "                                      min_samples_leaf=10, \n",
    "                                      )\n",
    "dt_tuned.fit(X_train, y_train)\n",
    "y_pred_dt_tuned = dt_tuned.predict(X_test)"
   ]
  },
  {
   "cell_type": "code",
   "execution_count": 77,
   "metadata": {},
   "outputs": [
    {
     "data": {
      "text/plain": [
       "0.7965471363360255"
      ]
     },
     "execution_count": 77,
     "metadata": {},
     "output_type": "execute_result"
    }
   ],
   "source": [
    "f1_dt = f1_score(y_test, y_pred_dt_tuned, average=\"weighted\")\n",
    "f1_dt"
   ]
  },
  {
   "cell_type": "code",
   "execution_count": 141,
   "metadata": {},
   "outputs": [
    {
     "name": "stdout",
     "output_type": "stream",
     "text": [
      "CLASSIFICATION REPORT for Naive Bayes\n",
      "\n",
      "                             precision    recall  f1-score   support\n",
      "\n",
      "      Bank Account services       0.80      0.84      0.82      1318\n",
      "Credit card or prepaid card       0.83      0.83      0.83      1295\n",
      "                     Others       0.78      0.75      0.76       558\n",
      "    Theft/Dispute Reporting       0.76      0.71      0.74      1181\n",
      "              Mortgage/Loan       0.80      0.83      0.81       916\n",
      "\n",
      "                   accuracy                           0.80      5268\n",
      "                  macro avg       0.79      0.79      0.79      5268\n",
      "               weighted avg       0.80      0.80      0.80      5268\n",
      "\n"
     ]
    },
    {
     "data": {
      "image/png": "[encoded data removed]",
      "text/plain": [
       "<Figure size 720x504 with 1 Axes>"
      ]
     },
     "metadata": {
      "needs_background": "light"
     },
     "output_type": "display_data"
    }
   ],
   "source": [
    "model_evaluation(y_test, y_pred_dt_tuned, model_name)"
   ]
  },
  {
   "cell_type": "code",
   "execution_count": 80,
   "metadata": {},
   "outputs": [
    {
     "data": {
      "text/html": [
       "<div>\n",
       "<style scoped>\n",
       "    .dataframe tbody tr th:only-of-type {\n",
       "        vertical-align: middle;\n",
       "    }\n",
       "\n",
       "    .dataframe tbody tr th {\n",
       "        vertical-align: top;\n",
       "    }\n",
       "\n",
       "    .dataframe thead th {\n",
       "        text-align: right;\n",
       "    }\n",
       "</style>\n",
       "<table border=\"1\" class=\"dataframe\">\n",
       "  <thead>\n",
       "    <tr style=\"text-align: right;\">\n",
       "      <th></th>\n",
       "      <th>Model</th>\n",
       "      <th>F1 Score</th>\n",
       "    </tr>\n",
       "  </thead>\n",
       "  <tbody>\n",
       "    <tr>\n",
       "      <th>0</th>\n",
       "      <td>Logistic Regression</td>\n",
       "      <td>0.95</td>\n",
       "    </tr>\n",
       "    <tr>\n",
       "      <th>1</th>\n",
       "      <td>Decision Tree</td>\n",
       "      <td>0.80</td>\n",
       "    </tr>\n",
       "  </tbody>\n",
       "</table>\n",
       "</div>"
      ],
      "text/plain": [
       "                 Model  F1 Score\n",
       "0  Logistic Regression      0.95\n",
       "1        Decision Tree      0.80"
      ]
     },
     "execution_count": 80,
     "metadata": {},
     "output_type": "execute_result"
    }
   ],
   "source": [
    "f1_summary_table.loc[len(f1_summary_table.index)] = ['Decision Tree', round(f1_dt, 2)]\n",
    "f1_summary_table"
   ]
  },
  {
   "cell_type": "code",
   "execution_count": 81,
   "metadata": {},
   "outputs": [],
   "source": [
    "# Save Logistic Regression model as pickle file in device\n",
    "pickle.dump(lr_tuned, open(\"logreg_model.pkl\", \"wb\"))"
   ]
  },
  {
   "cell_type": "markdown",
   "metadata": {},
   "source": [
    "## Model:3 - Random Forest"
   ]
  },
  {
   "cell_type": "code",
   "execution_count": 82,
   "metadata": {},
   "outputs": [],
   "source": [
    "from sklearn.ensemble import RandomForestClassifier"
   ]
  },
  {
   "cell_type": "code",
   "execution_count": 113,
   "metadata": {},
   "outputs": [],
   "source": [
    "model_name = 'Random Forest'\n",
    "rf_cfl = RandomForestClassifier(n_estimators = 200, \n",
    "                                 max_features = 'auto', \n",
    "                                 min_samples_leaf = 5, \n",
    "                                 min_samples_split = 6, \n",
    "                                 n_jobs = -1,\n",
    "                                random_state = 42)\n",
    "\n",
    "rf_cfl.fit(X_train, y_train)\n",
    "y_pred_rf = rf_cfl.predict(X_test)"
   ]
  },
  {
   "cell_type": "code",
   "execution_count": 112,
   "metadata": {},
   "outputs": [
    {
     "data": {
      "text/plain": [
       "0.8014788229861487"
      ]
     },
     "execution_count": 112,
     "metadata": {},
     "output_type": "execute_result"
    }
   ],
   "source": [
    "f1_rf = f1_score(y_test, y_pred_rf, average=\"weighted\")\n",
    "f1_rf"
   ]
  },
  {
   "cell_type": "code",
   "execution_count": 142,
   "metadata": {},
   "outputs": [
    {
     "name": "stdout",
     "output_type": "stream",
     "text": [
      "CLASSIFICATION REPORT for Naive Bayes\n",
      "\n",
      "                             precision    recall  f1-score   support\n",
      "\n",
      "      Bank Account services       0.78      0.92      0.85      1318\n",
      "Credit card or prepaid card       0.80      0.86      0.83      1295\n",
      "                     Others       0.95      0.38      0.54       558\n",
      "    Theft/Dispute Reporting       0.80      0.80      0.80      1181\n",
      "              Mortgage/Loan       0.86      0.86      0.86       916\n",
      "\n",
      "                   accuracy                           0.81      5268\n",
      "                  macro avg       0.84      0.76      0.77      5268\n",
      "               weighted avg       0.82      0.81      0.80      5268\n",
      "\n"
     ]
    },
    {
     "data": {
      "image/png": "[encoded data removed]",
      "text/plain": [
       "<Figure size 720x504 with 1 Axes>"
      ]
     },
     "metadata": {
      "needs_background": "light"
     },
     "output_type": "display_data"
    }
   ],
   "source": [
    "model_evaluation(y_test, y_pred_rf, model_name)"
   ]
  },
  {
   "cell_type": "code",
   "execution_count": 121,
   "metadata": {},
   "outputs": [
    {
     "data": {
      "text/html": [
       "<div>\n",
       "<style scoped>\n",
       "    .dataframe tbody tr th:only-of-type {\n",
       "        vertical-align: middle;\n",
       "    }\n",
       "\n",
       "    .dataframe tbody tr th {\n",
       "        vertical-align: top;\n",
       "    }\n",
       "\n",
       "    .dataframe thead th {\n",
       "        text-align: right;\n",
       "    }\n",
       "</style>\n",
       "<table border=\"1\" class=\"dataframe\">\n",
       "  <thead>\n",
       "    <tr style=\"text-align: right;\">\n",
       "      <th></th>\n",
       "      <th>Model</th>\n",
       "      <th>F1 Score</th>\n",
       "    </tr>\n",
       "  </thead>\n",
       "  <tbody>\n",
       "    <tr>\n",
       "      <th>0</th>\n",
       "      <td>Logistic Regression</td>\n",
       "      <td>0.95</td>\n",
       "    </tr>\n",
       "    <tr>\n",
       "      <th>1</th>\n",
       "      <td>Decision Tree</td>\n",
       "      <td>0.80</td>\n",
       "    </tr>\n",
       "    <tr>\n",
       "      <th>2</th>\n",
       "      <td>Random Forest</td>\n",
       "      <td>0.80</td>\n",
       "    </tr>\n",
       "  </tbody>\n",
       "</table>\n",
       "</div>"
      ],
      "text/plain": [
       "                 Model  F1 Score\n",
       "0  Logistic Regression      0.95\n",
       "1        Decision Tree      0.80\n",
       "2        Random Forest      0.80"
      ]
     },
     "execution_count": 121,
     "metadata": {},
     "output_type": "execute_result"
    }
   ],
   "source": [
    "f1_summary_table.loc[len(f1_summary_table.index)] = ['Random Forest', round(f1_rf, 2)]\n",
    "f1_summary_table"
   ]
  },
  {
   "cell_type": "markdown",
   "metadata": {},
   "source": [
    "## Model:4 - Naive Bayes"
   ]
  },
  {
   "cell_type": "code",
   "execution_count": 115,
   "metadata": {},
   "outputs": [],
   "source": [
    "from sklearn.naive_bayes import MultinomialNB"
   ]
  },
  {
   "cell_type": "code",
   "execution_count": 116,
   "metadata": {},
   "outputs": [],
   "source": [
    "model_name = 'Naive Bayes'\n",
    "nb = MultinomialNB()\n",
    "nb.fit(X_train, y_train)\n",
    "y_pred_nb = nb.predict(X_test)"
   ]
  },
  {
   "cell_type": "code",
   "execution_count": 117,
   "metadata": {},
   "outputs": [
    {
     "name": "stdout",
     "output_type": "stream",
     "text": [
      "Fitting 10 folds for each of 12 candidates, totalling 120 fits\n",
      "{'alpha': 0.1, 'fit_prior': False}\n"
     ]
    }
   ],
   "source": [
    "param_nb = {\n",
    "    'alpha': (1, 0.1, 0.01, 0.001, 0.0001, 0.00001),\n",
    "    'fit_prior':[True, False]\n",
    "}\n",
    "\n",
    "grid_nb = GridSearchCV(estimator=nb, \n",
    "                       param_grid=param_nb,\n",
    "                       verbose=1,\n",
    "                       scoring='f1_weighted',\n",
    "                       n_jobs=-1,\n",
    "                       cv=10)\n",
    "grid_nb.fit(X_train, y_train)\n",
    "print(grid_nb.best_params_)"
   ]
  },
  {
   "cell_type": "code",
   "execution_count": 118,
   "metadata": {},
   "outputs": [],
   "source": [
    "model_name = 'Naive Bayes'\n",
    "nb_tuned = MultinomialNB(alpha=0.1,fit_prior=False)\n",
    "nb_tuned.fit(X_train, y_train)\n",
    "y_pred_nb_tuned = nb_tuned.predict(X_test)"
   ]
  },
  {
   "cell_type": "code",
   "execution_count": 119,
   "metadata": {},
   "outputs": [
    {
     "data": {
      "text/plain": [
       "0.7831097002750967"
      ]
     },
     "execution_count": 119,
     "metadata": {},
     "output_type": "execute_result"
    }
   ],
   "source": [
    "f1_nb = f1_score(y_test, y_pred_nb_tuned, average=\"weighted\")\n",
    "f1_nb"
   ]
  },
  {
   "cell_type": "code",
   "execution_count": 143,
   "metadata": {},
   "outputs": [
    {
     "name": "stdout",
     "output_type": "stream",
     "text": [
      "CLASSIFICATION REPORT for Naive Bayes\n",
      "\n",
      "                             precision    recall  f1-score   support\n",
      "\n",
      "      Bank Account services       0.78      0.84      0.81      1318\n",
      "Credit card or prepaid card       0.81      0.75      0.78      1295\n",
      "                     Others       0.67      0.66      0.66       558\n",
      "    Theft/Dispute Reporting       0.77      0.78      0.77      1181\n",
      "              Mortgage/Loan       0.83      0.84      0.84       916\n",
      "\n",
      "                   accuracy                           0.78      5268\n",
      "                  macro avg       0.77      0.77      0.77      5268\n",
      "               weighted avg       0.78      0.78      0.78      5268\n",
      "\n"
     ]
    },
    {
     "data": {
      "image/png": "[encoded data removed]",
      "text/plain": [
       "<Figure size 720x504 with 1 Axes>"
      ]
     },
     "metadata": {
      "needs_background": "light"
     },
     "output_type": "display_data"
    }
   ],
   "source": [
    "model_evaluation(y_test, y_pred_nb_tuned, model_name)"
   ]
  },
  {
   "cell_type": "code",
   "execution_count": 122,
   "metadata": {},
   "outputs": [
    {
     "data": {
      "text/html": [
       "<div>\n",
       "<style scoped>\n",
       "    .dataframe tbody tr th:only-of-type {\n",
       "        vertical-align: middle;\n",
       "    }\n",
       "\n",
       "    .dataframe tbody tr th {\n",
       "        vertical-align: top;\n",
       "    }\n",
       "\n",
       "    .dataframe thead th {\n",
       "        text-align: right;\n",
       "    }\n",
       "</style>\n",
       "<table border=\"1\" class=\"dataframe\">\n",
       "  <thead>\n",
       "    <tr style=\"text-align: right;\">\n",
       "      <th></th>\n",
       "      <th>Model</th>\n",
       "      <th>F1 Score</th>\n",
       "    </tr>\n",
       "  </thead>\n",
       "  <tbody>\n",
       "    <tr>\n",
       "      <th>0</th>\n",
       "      <td>Logistic Regression</td>\n",
       "      <td>0.95</td>\n",
       "    </tr>\n",
       "    <tr>\n",
       "      <th>1</th>\n",
       "      <td>Decision Tree</td>\n",
       "      <td>0.80</td>\n",
       "    </tr>\n",
       "    <tr>\n",
       "      <th>2</th>\n",
       "      <td>Random Forest</td>\n",
       "      <td>0.80</td>\n",
       "    </tr>\n",
       "    <tr>\n",
       "      <th>3</th>\n",
       "      <td>Naive Bayes</td>\n",
       "      <td>0.78</td>\n",
       "    </tr>\n",
       "  </tbody>\n",
       "</table>\n",
       "</div>"
      ],
      "text/plain": [
       "                 Model  F1 Score\n",
       "0  Logistic Regression      0.95\n",
       "1        Decision Tree      0.80\n",
       "2        Random Forest      0.80\n",
       "3          Naive Bayes      0.78"
      ]
     },
     "execution_count": 122,
     "metadata": {},
     "output_type": "execute_result"
    }
   ],
   "source": [
    "f1_summary_table.loc[len(f1_summary_table.index)] = ['Naive Bayes', round(f1_nb, 2)]\n",
    "f1_summary_table"
   ]
  },
  {
   "cell_type": "markdown",
   "metadata": {},
   "source": [
    "### As per our observation after assesing all  the four models, Logistic Regression performs best. Hence we'll check the performance of the model through custome text "
   ]
  },
  {
   "cell_type": "code",
   "execution_count": 123,
   "metadata": {},
   "outputs": [],
   "source": [
    "def topic_predicter(text):\n",
    "    \n",
    "    target_names = [\"Bank Account services\", \"Credit card or prepaid card\", \"Others\", \"Theft/Dispute Reporting\", \"Mortgage/Loan\"]\n",
    "\n",
    "    load_vec = CountVectorizer(vocabulary=pickle.load(open(\"count_vector.pkl\", \"rb\")))\n",
    "    load_tfidf = pickle.load(open(\"tfidf.pkl\",\"rb\"))\n",
    "    load_model = pickle.load(open(\"logreg_model.pkl\",\"rb\"))\n",
    "\n",
    "    X_new_count = load_vec.transform(text)\n",
    "    X_new_tfidf = load_tfidf.transform(X_new_count)\n",
    "    prediction = load_model.predict(X_new_tfidf)\n",
    "\n",
    "    return target_names[prediction[0]]"
   ]
  },
  {
   "cell_type": "code",
   "execution_count": 132,
   "metadata": {},
   "outputs": [
    {
     "data": {
      "text/html": [
       "<div>\n",
       "<style scoped>\n",
       "    .dataframe tbody tr th:only-of-type {\n",
       "        vertical-align: middle;\n",
       "    }\n",
       "\n",
       "    .dataframe tbody tr th {\n",
       "        vertical-align: top;\n",
       "    }\n",
       "\n",
       "    .dataframe thead th {\n",
       "        text-align: right;\n",
       "    }\n",
       "</style>\n",
       "<table border=\"1\" class=\"dataframe\">\n",
       "  <thead>\n",
       "    <tr style=\"text-align: right;\">\n",
       "      <th></th>\n",
       "      <th>complaints</th>\n",
       "    </tr>\n",
       "  </thead>\n",
       "  <tbody>\n",
       "    <tr>\n",
       "      <th>0</th>\n",
       "      <td>How I can take a Loan through mortaging my ass...</td>\n",
       "    </tr>\n",
       "    <tr>\n",
       "      <th>1</th>\n",
       "      <td>Would you please share me Branch info in Gulsh...</td>\n",
       "    </tr>\n",
       "    <tr>\n",
       "      <th>2</th>\n",
       "      <td>In my last statement, I have observed some dis...</td>\n",
       "    </tr>\n",
       "    <tr>\n",
       "      <th>3</th>\n",
       "      <td>While doing transaction in latest payment, mon...</td>\n",
       "    </tr>\n",
       "    <tr>\n",
       "      <th>4</th>\n",
       "      <td>I want to change my credit card bill date. Ple...</td>\n",
       "    </tr>\n",
       "  </tbody>\n",
       "</table>\n",
       "</div>"
      ],
      "text/plain": [
       "                                          complaints\n",
       "0  How I can take a Loan through mortaging my ass...\n",
       "1  Would you please share me Branch info in Gulsh...\n",
       "2  In my last statement, I have observed some dis...\n",
       "3  While doing transaction in latest payment, mon...\n",
       "4  I want to change my credit card bill date. Ple..."
      ]
     },
     "execution_count": 132,
     "metadata": {},
     "output_type": "execute_result"
    }
   ],
   "source": [
    "df_custom = pd.DataFrame({'complaints': [\"How I can take a Loan through mortaging my assets ?\", \n",
    "                                  \"Would you please share me Branch info in Gulshan ?\",\n",
    "                                  \"In my last statement, I have observed some disputes in the Bill. Please let me know how I can resolve the issue.\",\n",
    "                                  \"While doing transaction in latest payment, money has been deducted twice. Please take the necessary precaution\",\n",
    "                                  \"I want to change my credit card bill date. Please let me know the process\"       \n",
    "                                  ]})\n",
    "df_custom"
   ]
  },
  {
   "cell_type": "code",
   "execution_count": 133,
   "metadata": {},
   "outputs": [
    {
     "data": {
      "text/html": [
       "<div>\n",
       "<style scoped>\n",
       "    .dataframe tbody tr th:only-of-type {\n",
       "        vertical-align: middle;\n",
       "    }\n",
       "\n",
       "    .dataframe tbody tr th {\n",
       "        vertical-align: top;\n",
       "    }\n",
       "\n",
       "    .dataframe thead th {\n",
       "        text-align: right;\n",
       "    }\n",
       "</style>\n",
       "<table border=\"1\" class=\"dataframe\">\n",
       "  <thead>\n",
       "    <tr style=\"text-align: right;\">\n",
       "      <th></th>\n",
       "      <th>complaints</th>\n",
       "      <th>predicted topic</th>\n",
       "    </tr>\n",
       "  </thead>\n",
       "  <tbody>\n",
       "    <tr>\n",
       "      <th>0</th>\n",
       "      <td>How I can take a Loan through mortaging my ass...</td>\n",
       "      <td>Mortgage/Loan</td>\n",
       "    </tr>\n",
       "    <tr>\n",
       "      <th>1</th>\n",
       "      <td>Would you please share me Branch info in Gulsh...</td>\n",
       "      <td>Bank Account services</td>\n",
       "    </tr>\n",
       "    <tr>\n",
       "      <th>2</th>\n",
       "      <td>In my last statement, I have observed some dis...</td>\n",
       "      <td>Theft/Dispute Reporting</td>\n",
       "    </tr>\n",
       "    <tr>\n",
       "      <th>3</th>\n",
       "      <td>While doing transaction in latest payment, mon...</td>\n",
       "      <td>Others</td>\n",
       "    </tr>\n",
       "    <tr>\n",
       "      <th>4</th>\n",
       "      <td>I want to change my credit card bill date. Ple...</td>\n",
       "      <td>Credit card or prepaid card</td>\n",
       "    </tr>\n",
       "  </tbody>\n",
       "</table>\n",
       "</div>"
      ],
      "text/plain": [
       "                                          complaints  \\\n",
       "0  How I can take a Loan through mortaging my ass...   \n",
       "1  Would you please share me Branch info in Gulsh...   \n",
       "2  In my last statement, I have observed some dis...   \n",
       "3  While doing transaction in latest payment, mon...   \n",
       "4  I want to change my credit card bill date. Ple...   \n",
       "\n",
       "               predicted topic  \n",
       "0                Mortgage/Loan  \n",
       "1        Bank Account services  \n",
       "2      Theft/Dispute Reporting  \n",
       "3                       Others  \n",
       "4  Credit card or prepaid card  "
      ]
     },
     "execution_count": 133,
     "metadata": {},
     "output_type": "execute_result"
    }
   ],
   "source": [
    "df_custom['predicted topic'] = df_custom['complaints'].apply(lambda x: topic_predicter([x]))\n",
    "df_custom"
   ]
  }
 ],
 "metadata": {
  "colab": {
   "collapsed_sections": [
    "T9jD_6SeJrF3",
    "5DfCSbbmJrF4",
    "yYzD85nTJrGA",
    "piyLxzj6v07j",
    "280Vbqk-7a8M"
   ],
   "name": "Automatic_Ticket_Classification_Assignment.ipynb",
   "provenance": []
  },
  "kernelspec": {
   "display_name": "Python 3",
   "language": "python",
   "name": "python3"
  },
  "language_info": {
   "codemirror_mode": {
    "name": "ipython",
    "version": 3
   },
   "file_extension": ".py",
   "mimetype": "text/x-python",
   "name": "python",
   "nbconvert_exporter": "python",
   "pygments_lexer": "ipython3",
   "version": "3.8.5"
  }
 },
 "nbformat": 4,
 "nbformat_minor": 1
}
